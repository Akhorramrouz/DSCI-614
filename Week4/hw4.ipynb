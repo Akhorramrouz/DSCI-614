{
 "cells": [
  {
   "cell_type": "markdown",
   "id": "2ca7f103",
   "metadata": {},
   "source": [
    "## Adel Khorramrouz\n",
    "### ak8480@rit.edu"
   ]
  },
  {
   "cell_type": "code",
   "execution_count": 1,
   "id": "b11d1c38",
   "metadata": {},
   "outputs": [],
   "source": [
    "from scipy.stats import lognorm, norm, expon\n",
    "import numpy as np"
   ]
  },
  {
   "cell_type": "markdown",
   "id": "22f0e3e8",
   "metadata": {},
   "source": [
    "### Q1\n",
    "#### Let 𝑋 denote the amount of time for which a book on 2-hour reserve at a college library is checked out by a randomly selected student and suppose that 𝑋 has density function: 𝑓(𝑥) = {0.5𝑥 0 ≤ 𝑥 ≤ 2, 0 𝑜𝑡ℎ𝑒𝑟𝑤𝑖𝑠𝑒} Calculate the following probabilities:\n",
    "\n",
    "#### a. 𝑃(𝑋 ≤ 1)"
   ]
  },
  {
   "cell_type": "markdown",
   "id": "30b17649",
   "metadata": {},
   "source": [
    "$$\n",
    "P(X <= B) = CDF(X) = F(X) = \\int_0^B \\frac{x}{2} \\, dx = \\frac{x^2}{4}\n",
    "\\\\\n",
    "P(X <= 1) = F(1) =  \\frac{1}{4}  = .25\n",
    "$$"
   ]
  },
  {
   "cell_type": "markdown",
   "id": "8e8a0684",
   "metadata": {},
   "source": [
    "#### b. 𝑃(0.5 ≤ 𝑋 ≤ 1.5)"
   ]
  },
  {
   "cell_type": "markdown",
   "id": "eefff924",
   "metadata": {},
   "source": [
    "$$\n",
    "F(1.5) - F(.5) = \\frac{1.5^2}{4} - \\frac{.5^2}{4} = \\frac{2.25 - .25}{4} = .5\n",
    "$$"
   ]
  },
  {
   "cell_type": "markdown",
   "id": "456f894e",
   "metadata": {},
   "source": [
    "#### c. 𝑃(𝑋 > 1.5)"
   ]
  },
  {
   "cell_type": "markdown",
   "id": "d68f5a14",
   "metadata": {},
   "source": [
    "$$\n",
    "1 - F(1.5) = 1 - \\frac{1.5^2}{4} = \\frac{4 - 2.25}{4} = \\frac{1.75}{4} = .4375\n",
    "$$"
   ]
  },
  {
   "cell_type": "markdown",
   "id": "f48262a2",
   "metadata": {},
   "source": [
    "### Q2\n",
    "#### Extensive experience states that the time to failure of fans in certain types of diesel engines follow an exponential distribution with mean time to failure 10,000 hours.\n",
    "#### a. What is the probability that the fan will last at least 15,000 hours"
   ]
  },
  {
   "cell_type": "code",
   "execution_count": 2,
   "id": "fb257da6",
   "metadata": {},
   "outputs": [
    {
     "name": "stdout",
     "output_type": "stream",
     "text": [
      "0.2231301601484298\n"
     ]
    }
   ],
   "source": [
    "mean = 10000\n",
    "exp_dist = expon(scale = mean)\n",
    "print(1-exp_dist.cdf(15000))"
   ]
  },
  {
   "cell_type": "markdown",
   "id": "01d072ff",
   "metadata": {},
   "source": [
    "$$\n",
    "X = time \\ to\\ failure\n",
    "\\\\\n",
    "distribution = exponential \n",
    "\\\\\n",
    "\\lambda = \\frac{1}{mean} = \\frac{1}{10000}\n",
    "\\\\\n",
    "P(X > 15,000) = 1 - F(15000) = .2231\n",
    "$$"
   ]
  },
  {
   "cell_type": "markdown",
   "id": "5d5566ce",
   "metadata": {},
   "source": [
    "#### b. What is the standard deviation of time to failure?"
   ]
  },
  {
   "cell_type": "markdown",
   "id": "29ea95de",
   "metadata": {},
   "source": [
    "$$\n",
    "in \\ exponential\\  distribution\\  we\\  have:\n",
    "\\\\\n",
    "mean = \\frac{1}{\\lambda} = \\sigma\n",
    "\\\\\n",
    "std = \\sigma = 10000\n",
    "$$"
   ]
  },
  {
   "cell_type": "code",
   "execution_count": 3,
   "id": "b6e06b26",
   "metadata": {},
   "outputs": [
    {
     "data": {
      "text/plain": [
       "10000.0"
      ]
     },
     "execution_count": 3,
     "metadata": {},
     "output_type": "execute_result"
    }
   ],
   "source": [
    "exp_dist.std()"
   ]
  },
  {
   "cell_type": "markdown",
   "id": "753d0949",
   "metadata": {},
   "source": [
    "#### c. What is the probability that a fan will last longer than the mean by more than 2 standard deviations?"
   ]
  },
  {
   "cell_type": "markdown",
   "id": "4b0982b6",
   "metadata": {},
   "source": [
    "$$\n",
    "P(X > \\mu + 2*\\sigma) = P (X > 30000) = 1 - F(30,000) = .04979\n",
    "$$"
   ]
  },
  {
   "cell_type": "code",
   "execution_count": 4,
   "id": "379ebf2e",
   "metadata": {},
   "outputs": [
    {
     "name": "stdout",
     "output_type": "stream",
     "text": [
      "0.04978706836786395\n"
     ]
    }
   ],
   "source": [
    "print(1 - exp_dist.cdf(mean+mean+mean))"
   ]
  },
  {
   "cell_type": "markdown",
   "id": "a43f20f3",
   "metadata": {},
   "source": [
    "### Q3\n",
    "#### A person can be in an upright position either sitting or standing. For children between the ages of eight and fifteen, time per day in an upright position follows a normal probability model with mean 6.2 hours and standard deviation 1.4 hours.\n",
    "#### a. What is the probability that a randomly selected child’s time per day in an upright position is more than 7 hours?\n"
   ]
  },
  {
   "cell_type": "markdown",
   "id": "5fb65eea",
   "metadata": {},
   "source": [
    "$$\n",
    "X = time\\ per\\ day\\ in\\ an\\ upright\\ position\n",
    "\\\\\n",
    "Distribution = Normal\n",
    "\\\\\n",
    "\\mu = 6.2\n",
    "\\\\\n",
    "\\sigma = 1.4\n",
    "\\\\\n",
    "P (X > 7) = 1 - F(7) = .28385\n",
    "$$"
   ]
  },
  {
   "cell_type": "code",
   "execution_count": 5,
   "id": "1d8c00dc",
   "metadata": {},
   "outputs": [
    {
     "name": "stdout",
     "output_type": "stream",
     "text": [
      "0.2838545830986763\n"
     ]
    }
   ],
   "source": [
    "mean = 6.2\n",
    "std = 1.4\n",
    "normal_dist = norm(mean, std)\n",
    "print(1 - normal_dist.cdf(7))"
   ]
  },
  {
   "cell_type": "markdown",
   "id": "cc17e141",
   "metadata": {},
   "source": [
    "#### b. What is the probability that a randomly selected child’s time per day in an upright position is less than 3 hours?"
   ]
  },
  {
   "cell_type": "markdown",
   "id": "1150fdbe",
   "metadata": {},
   "source": [
    "$$\n",
    "P (X < 3) = F(3) = .01114\n",
    "$$"
   ]
  },
  {
   "cell_type": "code",
   "execution_count": 6,
   "id": "c4aac47a",
   "metadata": {},
   "outputs": [
    {
     "name": "stdout",
     "output_type": "stream",
     "text": [
      "0.01113548947961638\n"
     ]
    }
   ],
   "source": [
    "print(normal_dist.cdf(3))"
   ]
  },
  {
   "cell_type": "markdown",
   "id": "8503ae57",
   "metadata": {},
   "source": [
    "#### c. Fill in the blank: 5% of children have less than ____ hours per day in an upright position."
   ]
  },
  {
   "cell_type": "markdown",
   "id": "b53f101b",
   "metadata": {},
   "source": [
    "$$\n",
    "P(X < A) = F(A) = .05\n",
    "\\\\\n",
    "A = 3.89\n",
    "$$"
   ]
  },
  {
   "cell_type": "code",
   "execution_count": 7,
   "id": "448050dc",
   "metadata": {},
   "outputs": [
    {
     "data": {
      "text/plain": [
       "3.8972049222679384"
      ]
     },
     "execution_count": 7,
     "metadata": {},
     "output_type": "execute_result"
    }
   ],
   "source": [
    "norm.ppf(.05,mean,std)"
   ]
  },
  {
   "cell_type": "markdown",
   "id": "12862787",
   "metadata": {},
   "source": [
    "#### d. Children in the highest 1% for time spent upright were in this position the longest. Therefore, 1% of children have more than ___ hours per day in an upright position."
   ]
  },
  {
   "cell_type": "markdown",
   "id": "2ca19507",
   "metadata": {},
   "source": [
    "$$\n",
    "P(X > A) = 1 - F(A) = .01\n",
    "\\\\\n",
    "F(A) = .99\n",
    "\\\\\n",
    "A = 9.4569\n",
    "$$"
   ]
  },
  {
   "cell_type": "code",
   "execution_count": 8,
   "id": "40fb9fa8",
   "metadata": {},
   "outputs": [
    {
     "data": {
      "text/plain": [
       "9.456887023657178"
      ]
     },
     "execution_count": 8,
     "metadata": {},
     "output_type": "execute_result"
    }
   ],
   "source": [
    "norm.ppf(.99,mean,std)"
   ]
  },
  {
   "cell_type": "markdown",
   "id": "b27cb82f",
   "metadata": {},
   "source": [
    "### Q4\n",
    "#### The life of an Infinity brand car battery is normally distributed with mean 810 days and standard deviation 42 days.\n",
    "#### a. What is the probability that a randomly selected Infinity car battery has a lifetime between 825 and 900 days?"
   ]
  },
  {
   "cell_type": "markdown",
   "id": "3160acbf",
   "metadata": {},
   "source": [
    "$$\n",
    "X = Battery\\ lifetime\n",
    "\\\\\n",
    "Distribution = Normal\n",
    "\\\\\n",
    "\\mu = 810\n",
    "\\\\\n",
    "\\sigma = 42\n",
    "\\\\\n",
    "P(825 < X <900) = F(900) - F(825) = .3444\n",
    "$$"
   ]
  },
  {
   "cell_type": "code",
   "execution_count": 9,
   "id": "227c61c5",
   "metadata": {},
   "outputs": [
    {
     "name": "stdout",
     "output_type": "stream",
     "text": [
      "0.3444301453470071\n"
     ]
    }
   ],
   "source": [
    "mu = 810\n",
    "std = 42\n",
    "normal_dist = norm(mu, std)\n",
    "print(normal_dist.cdf(900) - normal_dist.cdf(825))"
   ]
  },
  {
   "cell_type": "markdown",
   "id": "f3b41cea",
   "metadata": {},
   "source": [
    "#### b. What is the probability that a randomly selected Infinity car battery has a lifetime more than 850 days?"
   ]
  },
  {
   "cell_type": "markdown",
   "id": "5a5fc29f",
   "metadata": {},
   "source": [
    "$$\n",
    "P(X > 850) = 1 - F(850) = .1705\n",
    "$$"
   ]
  },
  {
   "cell_type": "code",
   "execution_count": 10,
   "id": "0438b76a",
   "metadata": {},
   "outputs": [
    {
     "name": "stdout",
     "output_type": "stream",
     "text": [
      "0.17045190796406517\n"
     ]
    }
   ],
   "source": [
    "print(1 - normal_dist.cdf(850))"
   ]
  },
  {
   "cell_type": "markdown",
   "id": "d87d7069",
   "metadata": {},
   "source": [
    "#### c. What is the 37th percentile of brand Infinity lifetimes?"
   ]
  },
  {
   "cell_type": "markdown",
   "id": "fbaf3b67",
   "metadata": {},
   "source": [
    "$$\n",
    "P(X < A) = F(A) = .37\n",
    "\\\\\n",
    "A = 796.06\n",
    "$$"
   ]
  },
  {
   "cell_type": "code",
   "execution_count": 11,
   "id": "04de043f",
   "metadata": {},
   "outputs": [
    {
     "name": "stdout",
     "output_type": "stream",
     "text": [
      "The 37th percentile of brand Infinity lifetimes is approximately 796.06 days.\n"
     ]
    }
   ],
   "source": [
    "percentile = .37\n",
    "percentile_value = norm.ppf(percentile, loc=mu, scale=std)\n",
    "print(f\"The 37th percentile of brand Infinity lifetimes is approximately {percentile_value:.2f} days.\")"
   ]
  },
  {
   "cell_type": "markdown",
   "id": "918ea4f5",
   "metadata": {},
   "source": [
    "#### d. One Infinity battery had a lifetime of 700 days. Is this unusual? EXPLAIN."
   ]
  },
  {
   "cell_type": "markdown",
   "id": "f4a57573",
   "metadata": {},
   "source": [
    "<span style=\"color:blue\">\n",
    "in this question we have\n",
    "$$\n",
    "\\frac{\\left|{700-\\mu}\\right|}{\\sigma} = \\frac{810-700}{42} = 2.6\n",
    "$$\n",
    "Which means X is more than 2.6 times of standard deviation far from the mean. which makes it very unlikely and unusual \n",
    "the probablity of such an event is:\n",
    "    \n",
    "$$\n",
    "P(X < 700) = F(700) = .0044\n",
    "$$\n",
    "    \n",
    "Which is less than half percent\n",
    "<span>"
   ]
  },
  {
   "cell_type": "code",
   "execution_count": 12,
   "id": "7c38f516",
   "metadata": {},
   "outputs": [
    {
     "data": {
      "text/plain": [
       "0.004408781892886983"
      ]
     },
     "execution_count": 12,
     "metadata": {},
     "output_type": "execute_result"
    }
   ],
   "source": [
    "normal_dist.cdf(700)"
   ]
  },
  {
   "cell_type": "markdown",
   "id": "a05b425d",
   "metadata": {},
   "source": [
    "### Q5\n",
    "#### Suppose that 𝑋 has a lognormal distribution with parameters 𝜇 = 6 and 𝜎 = 0.3. Determine the following:\n",
    "#### a. 𝑃(𝑋 < 300)"
   ]
  },
  {
   "cell_type": "code",
   "execution_count": 13,
   "id": "fb81e510",
   "metadata": {},
   "outputs": [
    {
     "name": "stdout",
     "output_type": "stream",
     "text": [
      "0.1617253133244424\n"
     ]
    }
   ],
   "source": [
    "mu = 6  # Mean of the underlying normal distribution\n",
    "sigma = .3  # Standard deviation of the underlying normal distribution\n",
    "scale = np.exp(mu)  # Scale parameter (corresponds to the median)\n",
    "x = 300\n",
    "lognorm_dist = lognorm(scale=scale, s=sigma)\n",
    "print(lognorm_dist.cdf(300))"
   ]
  },
  {
   "cell_type": "markdown",
   "id": "121b7742",
   "metadata": {},
   "source": [
    "#### b. The value for 𝑥 such that 𝑃(𝑋 ≤ 𝑥) = 0.95"
   ]
  },
  {
   "cell_type": "code",
   "execution_count": 14,
   "id": "724aab41",
   "metadata": {},
   "outputs": [
    {
     "data": {
      "text/plain": [
       "660.8032153804501"
      ]
     },
     "execution_count": 14,
     "metadata": {},
     "output_type": "execute_result"
    }
   ],
   "source": [
    "lognorm_dist.ppf(.95)"
   ]
  },
  {
   "cell_type": "markdown",
   "id": "4552a550",
   "metadata": {},
   "source": [
    "#### c. 𝑃(100 < 𝑋 < 500)"
   ]
  },
  {
   "cell_type": "code",
   "execution_count": 15,
   "id": "c9bb4781",
   "metadata": {},
   "outputs": [
    {
     "data": {
      "text/plain": [
       "0.7628051258906872"
      ]
     },
     "execution_count": 15,
     "metadata": {},
     "output_type": "execute_result"
    }
   ],
   "source": [
    "lognorm_dist.cdf(500)-lognorm_dist.cdf(100)"
   ]
  }
 ],
 "metadata": {
  "kernelspec": {
   "display_name": "Python 3 (ipykernel)",
   "language": "python",
   "name": "python3"
  },
  "language_info": {
   "codemirror_mode": {
    "name": "ipython",
    "version": 3
   },
   "file_extension": ".py",
   "mimetype": "text/x-python",
   "name": "python",
   "nbconvert_exporter": "python",
   "pygments_lexer": "ipython3",
   "version": "3.9.13"
  }
 },
 "nbformat": 4,
 "nbformat_minor": 5
}
