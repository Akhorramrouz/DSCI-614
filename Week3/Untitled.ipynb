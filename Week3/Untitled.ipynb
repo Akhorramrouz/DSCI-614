{
 "cells": [
  {
   "cell_type": "code",
   "execution_count": 1,
   "id": "470a9297",
   "metadata": {},
   "outputs": [],
   "source": [
    "from scipy import stats"
   ]
  },
  {
   "cell_type": "code",
   "execution_count": 12,
   "id": "9815463b",
   "metadata": {},
   "outputs": [
    {
     "name": "stdout",
     "output_type": "stream",
     "text": [
      "0.004239749709824007\n"
     ]
    }
   ],
   "source": [
    "x = 0\n",
    "for i in range(8,16):\n",
    "    x += stats.binom.pmf(i,15,.2)\n",
    "    \n",
    "print(x)"
   ]
  },
  {
   "cell_type": "code",
   "execution_count": 15,
   "id": "55c08466",
   "metadata": {},
   "outputs": [
    {
     "data": {
      "text/plain": [
       "3.0"
      ]
     },
     "execution_count": 15,
     "metadata": {},
     "output_type": "execute_result"
    }
   ],
   "source": [
    "stats.binom(15,.2).mean()"
   ]
  },
  {
   "cell_type": "code",
   "execution_count": 16,
   "id": "9e563057",
   "metadata": {},
   "outputs": [
    {
     "name": "stdout",
     "output_type": "stream",
     "text": [
      "0.5583457484800001\n"
     ]
    }
   ],
   "source": [
    "x = 0\n",
    "for i in range(3):\n",
    "    x += stats.nbinom.pmf(i,10,.8)\n",
    "    \n",
    "print(x)"
   ]
  },
  {
   "cell_type": "code",
   "execution_count": 28,
   "id": "f4b17599",
   "metadata": {},
   "outputs": [
    {
     "name": "stdout",
     "output_type": "stream",
     "text": [
      "0.44055944055944063\n",
      "0.6363636363636365\n",
      "0.6573426573426574\n"
     ]
    }
   ],
   "source": [
    "x = 0\n",
    "for i in range(2,5):\n",
    "    x += hypergeom.pmf(i,13,6,4)\n",
    "    print(x)"
   ]
  },
  {
   "cell_type": "code",
   "execution_count": 32,
   "id": "977ad44a",
   "metadata": {},
   "outputs": [
    {
     "name": "stdout",
     "output_type": "stream",
     "text": [
      "0.011108996538242306\n",
      "0.06109948096033269\n",
      "0.17357807091003605\n"
     ]
    }
   ],
   "source": [
    "x = 0\n",
    "for i in range(0,3):\n",
    "    x += stats.poisson.pmf(i,4.5)\n",
    "    \n",
    "    print(x)"
   ]
  },
  {
   "cell_type": "code",
   "execution_count": 43,
   "id": "16f5d4ee",
   "metadata": {},
   "outputs": [
    {
     "name": "stdout",
     "output_type": "stream",
     "text": [
      "0.01621388002496626\n"
     ]
    }
   ],
   "source": [
    "x = 0\n",
    "for i in range(35,36):\n",
    "    x += stats.poisson.cdf(35,50)\n",
    "    print(x)"
   ]
  },
  {
   "cell_type": "markdown",
   "id": "29ad5d4d",
   "metadata": {},
   "source": []
  },
  {
   "cell_type": "code",
   "execution_count": null,
   "id": "3a6962e6",
   "metadata": {},
   "outputs": [],
   "source": [
    "po"
   ]
  },
  {
   "cell_type": "markdown",
   "id": "613e0daf",
   "metadata": {},
   "source": []
  },
  {
   "cell_type": "code",
   "execution_count": null,
   "id": "55d10c48",
   "metadata": {},
   "outputs": [],
   "source": []
  },
  {
   "cell_type": "code",
   "execution_count": null,
   "id": "59433fd1",
   "metadata": {},
   "outputs": [],
   "source": []
  }
 ],
 "metadata": {
  "kernelspec": {
   "display_name": "Python 3 (ipykernel)",
   "language": "python",
   "name": "python3"
  },
  "language_info": {
   "codemirror_mode": {
    "name": "ipython",
    "version": 3
   },
   "file_extension": ".py",
   "mimetype": "text/x-python",
   "name": "python",
   "nbconvert_exporter": "python",
   "pygments_lexer": "ipython3",
   "version": "3.9.13"
  }
 },
 "nbformat": 4,
 "nbformat_minor": 5
}
