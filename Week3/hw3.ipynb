{
 "cells": [
  {
   "cell_type": "code",
   "execution_count": 2,
   "id": "f249062e",
   "metadata": {},
   "outputs": [],
   "source": [
    "from scipy.stats import hypergeom, nbinom, binom, poisson"
   ]
  },
  {
   "cell_type": "markdown",
   "id": "953550f8",
   "metadata": {},
   "source": [
    "# Q1\n",
    "\n",
    "## In the local Maytag repair shop, there are currently 14 refrigerators awaiting repair.  Of these, 9 have defective compressors.  The technician on duty will randomly select 6 refrigerators to examine today. \n",
    "\n",
    "##### a. What is the probability that among the six units examined the technician today, exactly five have defective compressors?  "
   ]
  },
  {
   "cell_type": "markdown",
   "id": "db383a1f",
   "metadata": {},
   "source": [
    "<span style=\"color:blue\"> $X$ is the chosen refrigerators with defectivity. Since the number of the trials are fixed. and each try include either choosing the refrigrator with defective compressors(success) or not (failiur). and each choise is depended on prior trials we will use Hypergeometric Distribution. so we will calculate the $PMF$ for this case.\n",
    "<span>"
   ]
  },
  {
   "cell_type": "code",
   "execution_count": 3,
   "id": "185859d8",
   "metadata": {},
   "outputs": [
    {
     "data": {
      "text/plain": [
       "0.20979020979020976"
      ]
     },
     "execution_count": 3,
     "metadata": {},
     "output_type": "execute_result"
    }
   ],
   "source": [
    "hypergeom.pmf(5,14,9,6)"
   ]
  },
  {
   "cell_type": "markdown",
   "id": "84337fc3",
   "metadata": {},
   "source": [
    "##### b. What is the probability that at most three of the units examined today have defective compressors? "
   ]
  },
  {
   "cell_type": "markdown",
   "id": "9d302631",
   "metadata": {},
   "source": [
    "<span style=\"color:blue\">\n",
    "There are two ways to calculate the probability:\n",
    "    \n",
    "    \n",
    "$P(X = 0) + P(X = 1) + P(X = 2) + P(X = 3)$\n",
    "    \n",
    "in other words we can calculate this using $F(X = 3)$ which is the $CDF$\n",
    "    \n",
    "as shown below as expected both numbers are same\n",
    "<span>"
   ]
  },
  {
   "cell_type": "code",
   "execution_count": 4,
   "id": "8da64ebe",
   "metadata": {},
   "outputs": [
    {
     "name": "stdout",
     "output_type": "stream",
     "text": [
      "0.3426573426573426\n"
     ]
    }
   ],
   "source": [
    "x = 0\n",
    "for i in range(4):\n",
    "    x += hypergeom.pmf(i,14,9,6)\n",
    "    \n",
    "print(x)"
   ]
  },
  {
   "cell_type": "code",
   "execution_count": 5,
   "id": "665e8139",
   "metadata": {},
   "outputs": [
    {
     "name": "stdout",
     "output_type": "stream",
     "text": [
      "0.3426573426573426\n"
     ]
    }
   ],
   "source": [
    "print(hypergeom.cdf(3,14,9,6))"
   ]
  },
  {
   "cell_type": "markdown",
   "id": "52ef3d93",
   "metadata": {},
   "source": [
    "##### c. What is the probability that, among the units examined by the technician, the number with defective compressors will exceed the expected value by more than 1 standard deviation? "
   ]
  },
  {
   "cell_type": "markdown",
   "id": "fb7790f9",
   "metadata": {},
   "source": [
    "<span style=\"color:blue\">\n",
    "1. Initially we should calculated the $E(X)$ and $STD(X)$ which are 3.85, 0.8477 respectively.\n",
    "\n",
    "2. then we want the probability that units with defective compressor is equal or greater than 5 (closest intiger after 4.6977). so we calculate $CDF$ for 4 $F(X=4)$ and the we calculate the $P$ complement.\n",
    "<span>"
   ]
  },
  {
   "cell_type": "markdown",
   "id": "886e5b70",
   "metadata": {},
   "source": [
    "$$\n",
    "\\mu = n (\\frac{D}{N}) = 6 * (\\frac{9}{14}) = 3.85\n",
    "std = \\sqrt{n(*\\frac{D}{N})*(1 - \\frac{D}{N})*(\\frac{N-n}{N-1})} = 6 * \\frac{9}{14} * \\frac {5}{14} * \\frac{8}{13} = .8477\n",
    "\\\\\n",
    "E(X) + Std(X) = 3.85 + .847 = 4.6977\n",
    "$$"
   ]
  },
  {
   "cell_type": "code",
   "execution_count": 6,
   "id": "aba1fee1",
   "metadata": {},
   "outputs": [
    {
     "data": {
      "text/plain": [
       "0.2377622377622377"
      ]
     },
     "execution_count": 6,
     "metadata": {},
     "output_type": "execute_result"
    }
   ],
   "source": [
    "1 - hypergeom.cdf(4,14,9,6)"
   ]
  },
  {
   "cell_type": "markdown",
   "id": "4a3ddb12",
   "metadata": {},
   "source": [
    "## Q2\n",
    "### Historically, 6% of circuit boards manufactured at ABC Company are defective.  Consider a random sample of 27 circuit boards.  Calculate the following probabilities: \n",
    "#### a. P(the sample will have at most 2 boards that are defective) "
   ]
  },
  {
   "cell_type": "markdown",
   "id": "e2d74739",
   "metadata": {},
   "source": [
    "<span style=\"color:blue\">\n",
    "$X$ is the number of defective boards. For this question, I use the binomial distribution because it deals with the number of successes (defective circuit boards in this case) in a fixed number of trials (the 27 circuit boards in the random sample), where each trial has only two possible outcomes (defective or not defective), and the probability of success (a circuit board being defective) is constant (6% or 0.06).\n",
    " <span>"
   ]
  },
  {
   "cell_type": "code",
   "execution_count": 12,
   "id": "fb0cdaab",
   "metadata": {},
   "outputs": [
    {
     "name": "stdout",
     "output_type": "stream",
     "text": [
      "P(the sample will have at most 2 boards that are defective) = 0.781380203853288\n"
     ]
    }
   ],
   "source": [
    "probability = binom.cdf(2, 27, .06)\n",
    "\n",
    "print(\"P(the sample will have at most 2 boards that are defective) =\", probability)"
   ]
  },
  {
   "cell_type": "markdown",
   "id": "d8d4aae4",
   "metadata": {},
   "source": [
    "#### b. P(the sample will have at least 5 boards that are defective)  "
   ]
  },
  {
   "cell_type": "markdown",
   "id": "ad107e74",
   "metadata": {},
   "source": [
    " <span style=\"color:blue\">\n",
    "We calculate the CDF of 4 and then using complement we will have at least 5    \n",
    "<span>"
   ]
  },
  {
   "cell_type": "code",
   "execution_count": 22,
   "id": "1eaa96bd",
   "metadata": {},
   "outputs": [
    {
     "data": {
      "text/plain": [
       "0.020711679168959884"
      ]
     },
     "execution_count": 22,
     "metadata": {},
     "output_type": "execute_result"
    }
   ],
   "source": [
    "1 - binom.cdf(4,27,.06)"
   ]
  },
  {
   "cell_type": "markdown",
   "id": "6f4df5dd",
   "metadata": {},
   "source": [
    "#### c. P(the sample will have at least 1 but not more than four boards that are defective) "
   ]
  },
  {
   "cell_type": "markdown",
   "id": "64c2fd2d",
   "metadata": {},
   "source": [
    " <span style=\"color:blue\">\n",
    "We calculate the $F(X=4)$ and then we calculate $f(x=0)$ so we have $F(X=4) - f(x=0)$ which is $79.11\\%$\n",
    "<span>"
   ]
  },
  {
   "cell_type": "code",
   "execution_count": 23,
   "id": "ff774c24",
   "metadata": {},
   "outputs": [
    {
     "data": {
      "text/plain": [
       "0.7911609235218402"
      ]
     },
     "execution_count": 23,
     "metadata": {},
     "output_type": "execute_result"
    }
   ],
   "source": [
    "binom.cdf(4,27,.06) - binom.pmf(0,27,.06)"
   ]
  },
  {
   "cell_type": "markdown",
   "id": "f6888a0c",
   "metadata": {},
   "source": [
    "## Q3\n",
    "### A textbook has 700 pages on which typographical errors could occur. Suppose that we expect 25 such errors randomly located on those pages. \n",
    "#### a. Find the probability that a random selection of 70 pages will contain no errors."
   ]
  },
  {
   "cell_type": "markdown",
   "id": "1816e8cf",
   "metadata": {},
   "source": [
    "<span style=\"color:blue\"> \n",
    "In this question, $X$ is the number of erorrs in selected number of pages. we can use the Poisson distribution because it deals with situations where events occur randomly over a fixed interval of time or space, and we are given an expected rate of occurrence (in this case, the expected number of typographical errors on a page). The Poisson distribution is appropriate when:\n",
    "\n",
    "The events occur randomly and independently.\n",
    "The average rate of occurrence (λ, often represented as \"lambda\") is known.which is $\\frac{25}{700}$\n",
    "<span>"
   ]
  },
  {
   "cell_type": "code",
   "execution_count": 25,
   "id": "126e4126",
   "metadata": {},
   "outputs": [
    {
     "data": {
      "text/plain": [
       "0.0820849986238988"
      ]
     },
     "execution_count": 25,
     "metadata": {},
     "output_type": "execute_result"
    }
   ],
   "source": [
    "poisson.pmf(0,25/700*70)"
   ]
  },
  {
   "cell_type": "markdown",
   "id": "c48f9ad0",
   "metadata": {},
   "source": [
    "\n",
    "#### b. Find the probability that a random selection of 70 pages will contain at least two errors. "
   ]
  },
  {
   "cell_type": "markdown",
   "id": "21805693",
   "metadata": {},
   "source": [
    "<span style=\"color:blue\">\n",
    "We use complement of number erorrs in with $1 - F(X = 1)$\n",
    "<span>"
   ]
  },
  {
   "cell_type": "code",
   "execution_count": 28,
   "id": "8a117eaf",
   "metadata": {},
   "outputs": [
    {
     "data": {
      "text/plain": [
       "0.7127025048163542"
      ]
     },
     "execution_count": 28,
     "metadata": {},
     "output_type": "execute_result"
    }
   ],
   "source": [
    "1 - poisson.cdf(1,25/700*70)"
   ]
  },
  {
   "cell_type": "markdown",
   "id": "ff27e4de",
   "metadata": {},
   "source": [
    "## Q4. \n",
    "### Suppose that 𝑃(𝑓𝑒𝑚𝑎𝑙𝑒 𝑏𝑖𝑟𝑡ℎ)=0.5. A couple wishes to have exactly two female children in their family. They will have children until this condition is fulfilled.\n",
    "#### a. What is the probability the family will have three or more males? "
   ]
  },
  {
   "cell_type": "markdown",
   "id": "1aa8df39",
   "metadata": {},
   "source": [
    "<span style=\"color:blue\">\n",
    "In this question $X$ is the number male children in the family until they have two female children.\n",
    "So since the number of success is determind but not the number of trial we are going to use negative binominal distribution.\n",
    "Since the number of success are fixed = 2 (number of girls) but number of trials is not fixed. So we consider this problem as a Negative binomial distribution.\n",
    "    \n",
    "Considerin dad is already there we are looking for 2 or more male children. so we calculate F(X=1) and then we calculate the P prime\n",
    "<span>"
   ]
  },
  {
   "cell_type": "code",
   "execution_count": 41,
   "id": "4edd24a0",
   "metadata": {},
   "outputs": [
    {
     "name": "stdout",
     "output_type": "stream",
     "text": [
      "0.4999999999999998\n"
     ]
    }
   ],
   "source": [
    "x = 0\n",
    "for i in range(0,2):\n",
    "    x += nbinom.pmf(i,2,.5)\n",
    "\n",
    "print(1 - x)"
   ]
  },
  {
   "cell_type": "markdown",
   "id": "3b13f191",
   "metadata": {},
   "source": [
    "#### b. What is the probability the family will have four children?\n"
   ]
  },
  {
   "cell_type": "markdown",
   "id": "00becd43",
   "metadata": {},
   "source": [
    "<span style='color:blue'>\n",
    "It means we are looking for the probability which they have exactly two male and two female children which means two success and two failures.\n",
    "<span>"
   ]
  },
  {
   "cell_type": "code",
   "execution_count": 42,
   "id": "2b43291e",
   "metadata": {},
   "outputs": [
    {
     "data": {
      "text/plain": [
       "0.18750000000000006"
      ]
     },
     "execution_count": 42,
     "metadata": {},
     "output_type": "execute_result"
    }
   ],
   "source": [
    "nbinom.pmf(2,2,.5)"
   ]
  },
  {
   "cell_type": "markdown",
   "id": "81c4cd93",
   "metadata": {},
   "source": [
    "#### c. How many males would you expect this family to have? "
   ]
  },
  {
   "cell_type": "markdown",
   "id": "375cb3a8",
   "metadata": {},
   "source": [
    "<span style='color:blue'>\n",
    "The $E(X)$ for negative binomial distribution is $\\frac{r*(1-p)}{p} = \\frac{2*.5}{.5} = 2$ \n",
    "since father is already there then it would be  3 males\n",
    "<span>"
   ]
  }
 ],
 "metadata": {
  "kernelspec": {
   "display_name": "Python 3 (ipykernel)",
   "language": "python",
   "name": "python3"
  },
  "language_info": {
   "codemirror_mode": {
    "name": "ipython",
    "version": 3
   },
   "file_extension": ".py",
   "mimetype": "text/x-python",
   "name": "python",
   "nbconvert_exporter": "python",
   "pygments_lexer": "ipython3",
   "version": "3.9.13"
  }
 },
 "nbformat": 4,
 "nbformat_minor": 5
}
