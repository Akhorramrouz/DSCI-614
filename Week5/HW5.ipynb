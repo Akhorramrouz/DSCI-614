{
 "cells": [
  {
   "cell_type": "code",
   "execution_count": 1,
   "id": "b0c37165",
   "metadata": {},
   "outputs": [],
   "source": [
    "from scipy.stats import norm, binom\n",
    "from scipy import stats\n",
    "import numpy as np\n",
    "import pandas as pd\n",
    "import matplotlib.pyplot as plt"
   ]
  },
  {
   "cell_type": "markdown",
   "id": "de96d458",
   "metadata": {},
   "source": [
    "### Q1.\n",
    "#### Random samples of size 𝑛 were taken from populations given below. Given your knowledge of the underlying distributions, determine the means and standard deviations of the sampling distributions\n",
    "#### a. Sample is from an unknown distribution with 𝑛 = 42, 𝜇 = 15, 𝜎^2 = 9, statistic is 𝑋̅\n"
   ]
  },
  {
   "cell_type": "markdown",
   "id": "021a1578",
   "metadata": {},
   "source": [
    "$$\n",
    "Statictics (\\bar{X}) : \\\\\n",
    "\\mu(\\bar{X}) = 15,\\\\ \\sigma(\\bar{X}) = \\sqrt{\\frac{\\sigma^{2}}{n}} = \\sqrt{\\frac{9}{42}} = .4629\n",
    "$$"
   ]
  },
  {
   "cell_type": "code",
   "execution_count": 2,
   "id": "2108392d",
   "metadata": {},
   "outputs": [
    {
     "data": {
      "text/plain": [
       "0.4629100498862757"
      ]
     },
     "execution_count": 2,
     "metadata": {},
     "output_type": "execute_result"
    }
   ],
   "source": [
    "np.sqrt(9/42)"
   ]
  },
  {
   "cell_type": "markdown",
   "id": "757848ca",
   "metadata": {},
   "source": [
    "#### b. Sample is from a Normal distribution with 𝑛 = 11, 𝜇 = 120, 𝜎^2 = 10, statistic is 𝑋̅\n"
   ]
  },
  {
   "cell_type": "markdown",
   "id": "67e8bf0b",
   "metadata": {},
   "source": [
    "$$\n",
    "Statictics (\\bar{X}) : \\\\\n",
    "\\mu(\\bar{X}) = 120,\\\\ \\sigma(\\bar{X}) = \\sqrt{\\frac{\\sigma^{2}}{n}} = \\sqrt{\\frac{10}{11}} = 0.9534\n",
    "$$"
   ]
  },
  {
   "cell_type": "code",
   "execution_count": 3,
   "id": "1a7524f2",
   "metadata": {},
   "outputs": [
    {
     "data": {
      "text/plain": [
       "0.9534625892455924"
      ]
     },
     "execution_count": 3,
     "metadata": {},
     "output_type": "execute_result"
    }
   ],
   "source": [
    "np.sqrt(10/11)"
   ]
  },
  {
   "cell_type": "markdown",
   "id": "654a7e5d",
   "metadata": {},
   "source": [
    "#### c. Sample is from a Binomial distribution with 𝑛 = 50, 𝑝 = 0.50, statistic is 𝑝̂\n"
   ]
  },
  {
   "cell_type": "markdown",
   "id": "6d9a0bb1",
   "metadata": {},
   "source": [
    "$$\n",
    "\\hat{P} = P = 0.50 \\\\\n",
    "\\  \n",
    "\\\\\n",
    "\\sigma(\\hat{P}) = \\sqrt{\\frac{P*(1-P)}{n}} = \\sqrt{\\frac{.5*.5}{50}} = \\sqrt{.005} = 0.0707\n",
    "$$"
   ]
  },
  {
   "cell_type": "markdown",
   "id": "566eafb5",
   "metadata": {},
   "source": [
    "#### d. Sample is from a Poisson distribution with 𝑛 = 35, 𝜆 = 30, statistic is 𝑋̅ (we didn’t explicitly talk about this case, but use what we know about sampling distributions of averages to solve for the Poisson distribution)."
   ]
  },
  {
   "cell_type": "markdown",
   "id": "c00c8ee0",
   "metadata": {},
   "source": [
    "<span style=\"color:blue\">\n",
    "$\\bar{X}$ statistics are going to shape a normal distribution with same $\\mu$:\n",
    "    $$\n",
    "    E(\\bar{X}) = E(X) = \\lambda = 30\n",
    "    \\\\\n",
    "    \\sigma(\\bar{X}) = \\sqrt{\\frac{\\sigma^{2}}{n}} = \\sqrt{\\frac{\\lambda}{n}} = \\sqrt{\\frac{30}{35}} = 0.9258\n",
    "    $$\n",
    "<span>"
   ]
  },
  {
   "cell_type": "markdown",
   "id": "2576d4e2",
   "metadata": {},
   "source": [
    "### Q2\n",
    "#### Suppose a random sample of size 18 observations is selected from a population that is normally distributed with mean 56 and standard deviation equal to 7.\n",
    "#### a. Give the mean and standard deviation of the sampling distribution of the sample mean"
   ]
  },
  {
   "cell_type": "markdown",
   "id": "488e0979",
   "metadata": {},
   "source": [
    "$$\n",
    "\\mu = 56, \\sigma = 7, n=18\n",
    "\\\\\n",
    "E(\\bar{X}) = \\mu = 56\n",
    "\\\\\n",
    "\\sigma({\\bar{X}}) = \\frac{\\sigma}{\\sqrt{n}} = \\frac{7}{\\sqrt{18}} = 1.6499 = 1.65\n",
    "$$"
   ]
  },
  {
   "cell_type": "markdown",
   "id": "eb17d7a4",
   "metadata": {},
   "source": [
    "#### b. Find the probability that x-bar exceeds 58.\n"
   ]
  },
  {
   "cell_type": "code",
   "execution_count": 4,
   "id": "0cb871ea",
   "metadata": {},
   "outputs": [
    {
     "data": {
      "text/plain": [
       "0.11273299250225355"
      ]
     },
     "execution_count": 4,
     "metadata": {},
     "output_type": "execute_result"
    }
   ],
   "source": [
    "normal_dist = norm(56,1.65)\n",
    "1 - normal_dist.cdf(58)"
   ]
  },
  {
   "cell_type": "markdown",
   "id": "f3b39fd8",
   "metadata": {},
   "source": [
    "### Since $\\bar{X}$ has a normal distribytion we have: $ P(\\bar{X} > 58) = 1 - F(58) = .1127$"
   ]
  },
  {
   "cell_type": "markdown",
   "id": "f83c0b4c",
   "metadata": {},
   "source": [
    "#### c. Find the probability that the sample mean deviates from the population mean by no more than 2.\n"
   ]
  },
  {
   "cell_type": "code",
   "execution_count": 5,
   "id": "30e4d6f8",
   "metadata": {},
   "outputs": [
    {
     "data": {
      "text/plain": [
       "0.7745340149954929"
      ]
     },
     "execution_count": 5,
     "metadata": {},
     "output_type": "execute_result"
    }
   ],
   "source": [
    "normal_dist.cdf(58) - normal_dist.cdf(54)"
   ]
  },
  {
   "cell_type": "markdown",
   "id": "7972c91b",
   "metadata": {},
   "source": [
    "$$\n",
    "P(54 < \\bar{X} < 58) = F(58) - F(54) = 0.7745\n",
    "$$"
   ]
  },
  {
   "cell_type": "markdown",
   "id": "c967d17f",
   "metadata": {},
   "source": [
    "#### d. Find the probability that x-bar is less than 53."
   ]
  },
  {
   "cell_type": "code",
   "execution_count": 6,
   "id": "3647fd44",
   "metadata": {},
   "outputs": [
    {
     "data": {
      "text/plain": [
       "0.03451817399720761"
      ]
     },
     "execution_count": 6,
     "metadata": {},
     "output_type": "execute_result"
    }
   ],
   "source": [
    "normal_dist.cdf(53)"
   ]
  },
  {
   "cell_type": "markdown",
   "id": "50fb2010",
   "metadata": {},
   "source": [
    "$$P(\\bar{X} < 53) = F(53) = 0.0345$$"
   ]
  },
  {
   "cell_type": "markdown",
   "id": "c13f2dcb",
   "metadata": {},
   "source": [
    "### Q3\n",
    "#### An advertiser claims that the average percentage of brown M&Ms candies in a package of milk chocolate M&Ms is 17%. Suppose you randomly select a package that contains 72 pieces and determine the proportion of brown candies in the package.\n",
    "#### a. What is the approximate distribution of the sample proportion of brown candies in a package that contains 72 candies?\n",
    "\n"
   ]
  },
  {
   "cell_type": "markdown",
   "id": "0bb9ad21",
   "metadata": {},
   "source": [
    "$P =$ Proportion of brown M&Ms as claimed by the advertiser =  0.17\n",
    "$N = $ Sample size = 72\n",
    "\n",
    "Since it is a binominal distribution we have:\n",
    "$ \\hat{P} = P = 0.17 \\\\ n * P = 72 * 0.17 = 12.24 \\\\ n * (1-P) = 72 * .83 = 59.76\n",
    "$\n",
    "\n",
    "\n",
    "\n",
    "<!-- Given:\n",
    "\n",
    "\\( p \\) =  = 0.17\n",
    "\n",
    "\\( n \\) = Sample size = 72 candies\n",
    "\n",
    "When sampling from a binomial population, the sample proportion \\( \\hat{p} \\) is approximately normally distributed if the following conditions are met:\n",
    "\n",
    "    \\item The sample is random.\n",
    "    \\item The normality condition: \\( np \\) and \\( n(1-p) \\) are both greater than 5.\n",
    "\n",
    "\n",
    "Given the above data:\n",
    "\n",
    "\\[ np = 72 \\times 0.17 = 12.24 \\]\n",
    "\n",
    "\\[ n(1-p) = 72 \\times (1 - 0.17) = 59.76 \\]\n",
    "\n",
    "Both of these values are greater than 5, so the normality condition is met.\n",
    "\n",
    "The approximate distribution of the sample proportion of brown candies in a package that contains 72 candies is:\n",
    "\n",
    "Normal distribution with:\n",
    "Mean \\( \\mu_{\\hat{p}} = p = 0.17 \\)\n",
    "\n",
    "Standard error for \\( \\hat{p} \\) is:\n",
    "\\[ SE_{\\hat{p}} = \\sqrt{\\frac{p(1-p)}{n}} \\]\n",
    "\\[ SE_{\\hat{p}} = \\sqrt{\\frac{0.17(1-0.17)}{72}} \\]\n",
    "\n",
    "So, the sampling distribution of the sample proportion \\( \\hat{p} \\) is approximately \\( N(0.17, SE_{\\hat{p}}^2) \\) where \\( N \\) denotes a normal distribution, and \\( SE_{\\hat{p}} \\) is the calculated standard error.\n",
    "\n",
    "\n",
    "$$ -->"
   ]
  },
  {
   "cell_type": "markdown",
   "id": "fd44b14c",
   "metadata": {},
   "source": [
    "#### b. What is the probability that the sample percentage of brown candies is less than 20%?\n"
   ]
  },
  {
   "cell_type": "markdown",
   "id": "746c341c",
   "metadata": {},
   "source": [
    "## If we use a distribution estimator we will have :"
   ]
  },
  {
   "cell_type": "code",
   "execution_count": 7,
   "id": "e9b7bc2f",
   "metadata": {},
   "outputs": [
    {
     "data": {
      "text/plain": [
       "0.7523230370047824"
      ]
     },
     "execution_count": 7,
     "metadata": {},
     "output_type": "execute_result"
    }
   ],
   "source": [
    "normal_dist = norm(.17,.044)\n",
    "normal_dist.cdf(.2)"
   ]
  },
  {
   "cell_type": "markdown",
   "id": "56d4095e",
   "metadata": {},
   "source": [
    "$$\n",
    "\\mu_{\\hat{P}} = P = 0.17 \\\\\n",
    "\\sigma = \\sqrt{\\frac{p*(1-p)}{n}} = \\sqrt{\\frac{.1411}{72}} = .0443 \\\\\n",
    "\\hat{P} \\sim N(0.17,.0443) \\\\\n",
    "P(\\hat{P} < .20) = F(.2) = .7523\n",
    "$$"
   ]
  },
  {
   "cell_type": "markdown",
   "id": "a59cb7ff",
   "metadata": {},
   "source": [
    "## if we use the binominal distribution itself we have almost same result"
   ]
  },
  {
   "cell_type": "code",
   "execution_count": 8,
   "id": "3d44e1ef",
   "metadata": {},
   "outputs": [
    {
     "data": {
      "text/plain": [
       "0.7661715507470683"
      ]
     },
     "execution_count": 8,
     "metadata": {},
     "output_type": "execute_result"
    }
   ],
   "source": [
    "binom.cdf(14,72,.17)"
   ]
  },
  {
   "cell_type": "markdown",
   "id": "e758c9f0",
   "metadata": {},
   "source": [
    "#### c. What is the probability that the sample percentage exceeds 35%?\n"
   ]
  },
  {
   "cell_type": "code",
   "execution_count": 9,
   "id": "e797b4cc",
   "metadata": {},
   "outputs": [
    {
     "name": "stdout",
     "output_type": "stream",
     "text": [
      "2.1484277525463114e-05\n"
     ]
    }
   ],
   "source": [
    "print(1 - normal_dist.cdf(.35))"
   ]
  },
  {
   "cell_type": "markdown",
   "id": "98173bde",
   "metadata": {},
   "source": [
    "$$\n",
    "P(\\hat{P} > .35) = 1 - F(.35) \\approx 0\n",
    "$$\n",
    "\n",
    "### Or you can directley calculate the result with binominal distribution and the result is going to be almost same which is 0"
   ]
  },
  {
   "cell_type": "code",
   "execution_count": 10,
   "id": "72b4b39d",
   "metadata": {},
   "outputs": [
    {
     "name": "stdout",
     "output_type": "stream",
     "text": [
      "7.76553378180056e-05\n"
     ]
    }
   ],
   "source": [
    "print(1 - binom.cdf(np.floor(72*.35), 72, .17))"
   ]
  },
  {
   "cell_type": "markdown",
   "id": "eb53d5d7",
   "metadata": {},
   "source": [
    "#### d. What value would you expect the sample proportion to be greater than 95% of the time?"
   ]
  },
  {
   "cell_type": "code",
   "execution_count": 11,
   "id": "10228acb",
   "metadata": {},
   "outputs": [
    {
     "data": {
      "text/plain": [
       "0.09762644041413521"
      ]
     },
     "execution_count": 11,
     "metadata": {},
     "output_type": "execute_result"
    }
   ],
   "source": [
    "normal_dist.ppf(.05)"
   ]
  },
  {
   "cell_type": "markdown",
   "id": "ce63f598",
   "metadata": {},
   "source": [
    "$$\n",
    "P(\\hat{P} > X) = 0.95\n",
    "\\\\\n",
    "F(\\hat{P} = X) = .05\n",
    "\\\\\n",
    "X = .0976\n",
    "$$"
   ]
  },
  {
   "cell_type": "markdown",
   "id": "ec1843e2",
   "metadata": {},
   "source": [
    "# Q4\n",
    "### Use the viscosity data from HW1\n",
    "#### a. Determine if the data can be considered normal. Justify your answer with a normal probability plot.\n"
   ]
  },
  {
   "cell_type": "code",
   "execution_count": 12,
   "id": "7714a15e",
   "metadata": {},
   "outputs": [
    {
     "data": {
      "image/png": "[encoded data removed]",
      "text/plain": [
       "<Figure size 640x480 with 1 Axes>"
      ]
     },
     "metadata": {},
     "output_type": "display_data"
    },
    {
     "name": "stdout",
     "output_type": "stream",
     "text": [
      "We have 100 samples\n"
     ]
    }
   ],
   "source": [
    "df = pd.read_csv(\"../Week1/HW1/viscosity.txt\", sep=\"\\t\",index_col=0)\n",
    "data = df.Viscosity\n",
    "plt.hist(df.Viscosity,bins=12)\n",
    "plt.show()\n",
    "print(F\"We have {len(data)} samples\")"
   ]
  },
  {
   "cell_type": "code",
   "execution_count": 13,
   "id": "b7abc7c7",
   "metadata": {},
   "outputs": [
    {
     "data": {
      "image/png": "[encoded data removed]",
      "text/plain": [
       "<Figure size 800x600 with 1 Axes>"
      ]
     },
     "metadata": {},
     "output_type": "display_data"
    },
    {
     "name": "stdout",
     "output_type": "stream",
     "text": [
      "Data does not seem to be normally distributed (Shapiro-Wilk test)\n"
     ]
    }
   ],
   "source": [
    "import matplotlib.pyplot as plt\n",
    "import scipy.stats as stats\n",
    "\n",
    "# Enhanced Quantile-Quantile Plot\n",
    "plt.figure(figsize=(8, 6))  # Set the figure size\n",
    "stats.probplot(data, dist=\"norm\", plot=plt)\n",
    "\n",
    "# Adding title and labels\n",
    "plt.title(\"Quantile-Quantile Plot vs. Normal Distribution\", fontsize=16)\n",
    "plt.xlabel(\"Theoretical Quantiles\", fontsize=14)\n",
    "plt.ylabel(\"Ordered Values\", fontsize=14)\n",
    "plt.grid(True, which=\"both\", linestyle=\"--\", linewidth=0.5)\n",
    "plt.tight_layout()  # Adjust the layout for better appearance\n",
    "\n",
    "# Display the plot\n",
    "plt.show()\n",
    "\n",
    "# Shapiro-Wilk Test for Normality\n",
    "shapiro_test_stat, shapiro_p_value = stats.shapiro(data)\n",
    "\n",
    "# Use f-strings for cleaner message display\n",
    "message = \"Data seems to be normally distributed (Shapiro-Wilk test)\" if shapiro_p_value > 0.05 else \"Data does not seem to be normally distributed (Shapiro-Wilk test)\"\n",
    "print(message)\n"
   ]
  },
  {
   "cell_type": "markdown",
   "id": "bd892147",
   "metadata": {},
   "source": [
    "#### b. Assuming the process mean is typically 85 with a standard deviation of 2. What’s the probability of a sample mean less than 83.36 (the 𝑋̅ of the given sample)?"
   ]
  },
  {
   "cell_type": "code",
   "execution_count": 14,
   "id": "bf65f13d",
   "metadata": {},
   "outputs": [
    {
     "data": {
      "text/plain": [
       "1.2019351542735388e-16"
      ]
     },
     "execution_count": 14,
     "metadata": {},
     "output_type": "execute_result"
    }
   ],
   "source": [
    "normal_dist = norm(85,.2)\n",
    "normal_dist.cdf(83.36)"
   ]
  },
  {
   "cell_type": "markdown",
   "id": "c42aee98",
   "metadata": {},
   "source": [
    "$$\n",
    "\\mu_{\\bar{X}} = 85 \\\\\n",
    "\\sigma_{X} = 2 \\\\ \n",
    "\\sigma_{\\bar{X}} = \\frac{\\sigma}{\\sqrt{n}} = \\frac{2}{10} = .2 \\\\\n",
    "P({\\bar{X} < 83.36}) = F(\\bar{X} = 83.36) \\approx 0\n",
    "$$"
   ]
  },
  {
   "cell_type": "markdown",
   "id": "e48fdc44",
   "metadata": {},
   "source": [
    "#### c. What do you think about this sample? Is this sample representative of the typical process? Maybe think about our conclusions from the last time we looked at this sample. "
   ]
  },
  {
   "cell_type": "markdown",
   "id": "466a5175",
   "metadata": {},
   "source": [
    "<span style=\"color:blue\">\n",
    "Upon analyzing the graphical representation of the sample data, particularly from the histogram, a key observation emerges: the data showcases a bimodal distribution. Bimodal distributions occur when the data reveals two different modes or peaks. This suggests that there might be two underlying processes or groups within the data, or there could be some external factors influencing the data to manifest in this manner.\n",
    "\n",
    "\n",
    "Given that we're observing a bimodal distribution, simply using the mean and standard deviation as representative statistics may be misleading not only for data itself but also for the $\\bar{X}$. These metrics, while commonly used for unimodal and normally distributed data, might not capture the nuances and underlying characteristics of a bimodal distribution. The mean might land in between the two peaks, where fewer data points actually reside, making it less representative of the typical data value. Similarly, the standard deviation might be inflated due to the spread of two distinct groups.\n",
    "<span>"
   ]
  }
 ],
 "metadata": {
  "kernelspec": {
   "display_name": "Python 3 (ipykernel)",
   "language": "python",
   "name": "python3"
  },
  "language_info": {
   "codemirror_mode": {
    "name": "ipython",
    "version": 3
   },
   "file_extension": ".py",
   "mimetype": "text/x-python",
   "name": "python",
   "nbconvert_exporter": "python",
   "pygments_lexer": "ipython3",
   "version": "3.9.13"
  }
 },
 "nbformat": 4,
 "nbformat_minor": 5
}
