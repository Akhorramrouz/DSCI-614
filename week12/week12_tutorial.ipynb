{
 "cells": [
  {
   "cell_type": "code",
   "execution_count": 1,
   "id": "c468582b",
   "metadata": {},
   "outputs": [],
   "source": [
    "import pandas as pd\n",
    "from scipy import stats\n",
    "import numpy as np"
   ]
  },
  {
   "cell_type": "code",
   "execution_count": 2,
   "id": "35faaf10",
   "metadata": {},
   "outputs": [],
   "source": [
    "df = pd.read_excel(\"data_class_examples.xlsx\",sheet_name=\"Sheet3\")"
   ]
  },
  {
   "cell_type": "code",
   "execution_count": 3,
   "id": "f660f2cf",
   "metadata": {},
   "outputs": [],
   "source": [
    "Factor = 'Lead Level'\n",
    "Parameter = \"IQ Score\""
   ]
  },
  {
   "cell_type": "code",
   "execution_count": 4,
   "id": "a3f7263f",
   "metadata": {},
   "outputs": [
    {
     "data": {
      "text/plain": [
       "F_onewayResult(statistic=0.42817912461156754, pvalue=0.6560428980010519)"
      ]
     },
     "execution_count": 4,
     "metadata": {},
     "output_type": "execute_result"
    }
   ],
   "source": [
    "groups = []\n",
    "for i in range(len(set(df[Factor]))):\n",
    "    groups.append(np.array(df.loc[df[Factor] == df[Factor].unique()[i]][Parameter]))\n",
    "    \n",
    "stats.f_oneway(*groups)"
   ]
  },
  {
   "cell_type": "markdown",
   "id": "7ff7d527",
   "metadata": {},
   "source": [
    "# example 2"
   ]
  },
  {
   "cell_type": "code",
   "execution_count": 5,
   "id": "1a2972d4",
   "metadata": {},
   "outputs": [],
   "source": [
    "df = pd.read_excel(\"data_class_examples.xlsx\",sheet_name=\"Sheet4\")"
   ]
  },
  {
   "cell_type": "code",
   "execution_count": 8,
   "id": "7ae76cd9",
   "metadata": {},
   "outputs": [],
   "source": [
    "Factor = 'Hardwood Concetration (%)'\n",
    "Parameter = \"Tensile Strength (psi)\""
   ]
  },
  {
   "cell_type": "code",
   "execution_count": 9,
   "id": "5707f3fb",
   "metadata": {},
   "outputs": [
    {
     "data": {
      "text/plain": [
       "F_onewayResult(statistic=19.605206999573184, pvalue=3.5925782584743027e-06)"
      ]
     },
     "execution_count": 9,
     "metadata": {},
     "output_type": "execute_result"
    }
   ],
   "source": [
    "groups = []\n",
    "for i in range(len(set(df[Factor]))):\n",
    "    groups.append(np.array(df.loc[df[Factor] == df[Factor].unique()[i]][Parameter]))\n",
    "    \n",
    "stats.f_oneway(*groups)"
   ]
  },
  {
   "cell_type": "markdown",
   "id": "12902c97",
   "metadata": {},
   "source": [
    "# Example 3"
   ]
  },
  {
   "cell_type": "code",
   "execution_count": 38,
   "id": "2309fd89",
   "metadata": {},
   "outputs": [],
   "source": [
    "df = pd.read_excel(\"data_class_examples.xlsx\",sheet_name=\"Sheet5\")"
   ]
  },
  {
   "cell_type": "code",
   "execution_count": 39,
   "id": "aa5a4b99",
   "metadata": {},
   "outputs": [],
   "source": [
    "for column in df.columns:\n",
    "    df.rename(columns={column:column.replace(\" \",\"_\")},inplace=True)\n",
    "    \n",
    "    \n",
    "Factor1 = \"Application_Method\"\n",
    "Factor2 = \"Primer_Types\"\n",
    "Parameter = \"Adhesion_Force\""
   ]
  },
  {
   "cell_type": "code",
   "execution_count": 40,
   "id": "f97fef70",
   "metadata": {},
   "outputs": [
    {
     "data": {
      "text/html": [
       "<div>\n",
       "<style scoped>\n",
       "    .dataframe tbody tr th:only-of-type {\n",
       "        vertical-align: middle;\n",
       "    }\n",
       "\n",
       "    .dataframe tbody tr th {\n",
       "        vertical-align: top;\n",
       "    }\n",
       "\n",
       "    .dataframe thead th {\n",
       "        text-align: right;\n",
       "    }\n",
       "</style>\n",
       "<table border=\"1\" class=\"dataframe\">\n",
       "  <thead>\n",
       "    <tr style=\"text-align: right;\">\n",
       "      <th></th>\n",
       "      <th>sum_sq</th>\n",
       "      <th>df</th>\n",
       "      <th>F</th>\n",
       "      <th>PR(&gt;F)</th>\n",
       "    </tr>\n",
       "  </thead>\n",
       "  <tbody>\n",
       "    <tr>\n",
       "      <th>C(Application_Method)</th>\n",
       "      <td>4.908889</td>\n",
       "      <td>1.0</td>\n",
       "      <td>59.702703</td>\n",
       "      <td>0.000005</td>\n",
       "    </tr>\n",
       "    <tr>\n",
       "      <th>C(Primer_Types)</th>\n",
       "      <td>4.581111</td>\n",
       "      <td>2.0</td>\n",
       "      <td>27.858108</td>\n",
       "      <td>0.000031</td>\n",
       "    </tr>\n",
       "    <tr>\n",
       "      <th>C(Application_Method):C(Primer_Types)</th>\n",
       "      <td>0.241111</td>\n",
       "      <td>2.0</td>\n",
       "      <td>1.466216</td>\n",
       "      <td>0.269342</td>\n",
       "    </tr>\n",
       "    <tr>\n",
       "      <th>Residual</th>\n",
       "      <td>0.986667</td>\n",
       "      <td>12.0</td>\n",
       "      <td>NaN</td>\n",
       "      <td>NaN</td>\n",
       "    </tr>\n",
       "  </tbody>\n",
       "</table>\n",
       "</div>"
      ],
      "text/plain": [
       "                                         sum_sq    df          F    PR(>F)\n",
       "C(Application_Method)                  4.908889   1.0  59.702703  0.000005\n",
       "C(Primer_Types)                        4.581111   2.0  27.858108  0.000031\n",
       "C(Application_Method):C(Primer_Types)  0.241111   2.0   1.466216  0.269342\n",
       "Residual                               0.986667  12.0        NaN       NaN"
      ]
     },
     "execution_count": 40,
     "metadata": {},
     "output_type": "execute_result"
    }
   ],
   "source": [
    "import pandas as pd\n",
    "import statsmodels.api as sm\n",
    "from statsmodels.formula.api import ols\n",
    "\n",
    "model = ols(f'{Parameter} ~ C({Factor1}) + C({Factor2}) + C({Factor1}):C({Factor2})', data=df).fit()\n",
    "anova_results = sm.stats.anova_lm(model, typ=2)\n",
    "\n",
    "anova_results"
   ]
  },
  {
   "cell_type": "code",
   "execution_count": 36,
   "id": "df905276",
   "metadata": {},
   "outputs": [
    {
     "name": "stdout",
     "output_type": "stream",
     "text": [
      "Adhesion Force ~ C(Application Method) + C(Primer Types) + C(Application Method):C(Primer Types)\n",
      "Adhesion_Force ~ C(Application_Method) + C(Primer_Types) + C(Application_Method):C(Primer_Types)\n"
     ]
    }
   ],
   "source": [
    "print(f'{Parameter} ~ C({Factor1}) + C({Factor2}) + C({Factor1}):C({Factor2})')\n",
    "print('Adhesion_Force ~ C(Application_Method) + C(Primer_Types) + C(Application_Method):C(Primer_Types)')"
   ]
  },
  {
   "cell_type": "code",
   "execution_count": null,
   "id": "e1a60587",
   "metadata": {},
   "outputs": [],
   "source": []
  }
 ],
 "metadata": {
  "kernelspec": {
   "display_name": "Python 3 (ipykernel)",
   "language": "python",
   "name": "python3"
  },
  "language_info": {
   "codemirror_mode": {
    "name": "ipython",
    "version": 3
   },
   "file_extension": ".py",
   "mimetype": "text/x-python",
   "name": "python",
   "nbconvert_exporter": "python",
   "pygments_lexer": "ipython3",
   "version": "3.11.5"
  }
 },
 "nbformat": 4,
 "nbformat_minor": 5
}
