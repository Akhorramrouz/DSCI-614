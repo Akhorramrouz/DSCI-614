{
 "cells": [
  {
   "cell_type": "code",
   "execution_count": 2,
   "id": "0c14cf24",
   "metadata": {},
   "outputs": [],
   "source": [
    "import pandas as pd\n",
    "from scipy import stats\n",
    "import statsmodels.api as sm\n",
    "import matplotlib.pyplot as plt\n",
    "import numpy as np\n"
   ]
  },
  {
   "cell_type": "markdown",
   "id": "8a48ae98",
   "metadata": {},
   "source": [
    "## The college placement office is developing a model to relate grade point average (GPA) to starting salary for liberal arts majors. Twenty recent graduates have been randomly selected and their GPAs and starting salaries are provided in HW10.xslx.\n",
    "\n",
    "### a. Fit a simple linear regression model to the data. What is the estimate for 𝛽0 and 𝛽1 ? Give the fitted regression model."
   ]
  },
  {
   "cell_type": "code",
   "execution_count": 7,
   "id": "df60a8ae",
   "metadata": {},
   "outputs": [
    {
     "data": {
      "image/png": "[encoded data removed]",
      "text/plain": [
       "<Figure size 640x480 with 1 Axes>"
      ]
     },
     "metadata": {},
     "output_type": "display_data"
    }
   ],
   "source": [
    "data = pd.read_excel(\"HW #11.xlsx\",sheet_name='Problem 1')\n",
    "data = data.sort_values(by='GPA')\n",
    "x = np.array(data['GPA'])\n",
    "y = np.array(data['Predicted Starting Salary (K)'])\n",
    "\n",
    "slope, intercept, r_value, p_value, std_err = stats.linregress(x,y)\n",
    "\n",
    "x_hat = np.linspace(x[0],x[-1])\n",
    "y_hat = [slope*x_i+intercept for x_i in x_hat]\n",
    "y_pred = [slope*x_i+intercept for x_i in x]\n",
    "residuals = y - y_pred\n",
    "\n",
    "\n",
    "plt.scatter(x,y)\n",
    "plt.plot(x_hat,y_hat,'r')\n",
    "plt.show()"
   ]
  },
  {
   "cell_type": "markdown",
   "id": "2bc7c25b",
   "metadata": {},
   "source": [
    "\n",
    "$$\n",
    "\\beta_{1} = slope = 7.1439 \\\\\n",
    "\\beta_{0} = intercept = 17.0853\\\\\n",
    "model : \\\\\n",
    "\\hat{y}_{i} =  \\beta_{1} * x_{i}  + \\beta_{0}  = 7.1439 * x_{i} + 17.0853\n",
    "$$\n",
    "\n",
    "---"
   ]
  },
  {
   "cell_type": "markdown",
   "id": "232509d5",
   "metadata": {},
   "source": [
    "### b. Test the hypothesis 𝐻0:𝛽1 = 0. Include the alternative hypothesis, test statistic, critical value, p-value, decision, and conclusion (with context to the problem).\n"
   ]
  },
  {
   "cell_type": "code",
   "execution_count": 8,
   "id": "a416fe1e",
   "metadata": {},
   "outputs": [
    {
     "data": {
      "text/plain": [
       "1.4296883024464914e-05"
      ]
     },
     "execution_count": 8,
     "metadata": {},
     "output_type": "execute_result"
    }
   ],
   "source": [
    "stats.t.sf((slope/std_err),18)"
   ]
  },
  {
   "cell_type": "markdown",
   "id": "e313641b",
   "metadata": {},
   "source": [
    "$$\n",
    "H_{1}: \\beta_{1} \\neq 0 \\\\\n",
    "Test\\ Statistic = t_0 = \\frac{\\beta_{1}}{se_{(b1)}} = \\frac{7.1439}{1.2868} = 5.55 \\\\\n",
    "Critical\\ Value = t_{\\frac{\\alpha}{2},n-2} = 2.1 \\\\\n",
    "5.55 > 2.1 \\\\\n",
    "P = 2 * 1.42 * .00001 = 0.0000284\n",
    "$$\n",
    "\n",
    "#### Since P value is very small we can reject the H0 and we can conclude that GPA of students has a role on their starting salary"
   ]
  },
  {
   "cell_type": "markdown",
   "id": "81356a6c",
   "metadata": {},
   "source": [
    "---"
   ]
  },
  {
   "cell_type": "markdown",
   "id": "8b3f7223",
   "metadata": {},
   "source": [
    "\n",
    "### c. What is 𝑅2? Interpret this value.\n"
   ]
  },
  {
   "cell_type": "code",
   "execution_count": 9,
   "id": "15ddbef2",
   "metadata": {},
   "outputs": [
    {
     "data": {
      "text/plain": [
       "0.7945440488521425"
      ]
     },
     "execution_count": 9,
     "metadata": {},
     "output_type": "execute_result"
    }
   ],
   "source": [
    "r_value"
   ]
  },
  {
   "cell_type": "markdown",
   "id": "80ef293d",
   "metadata": {},
   "source": [
    "$$\n",
    "R^2 = 0.6313 \\\\\n",
    "R = \\sqrt{R^{2}} = .7945 \\\\\n",
    "$$\n",
    "\n",
    "### The regression model is explaining the 79.45% of the variability in the salary\n",
    "------"
   ]
  },
  {
   "cell_type": "markdown",
   "id": "698124c7",
   "metadata": {},
   "source": [
    "### d. Find the estimate for mean starting salary when GPA is 3.6.\n"
   ]
  },
  {
   "cell_type": "code",
   "execution_count": 10,
   "id": "65b43cb3",
   "metadata": {},
   "outputs": [
    {
     "data": {
      "text/plain": [
       "42.803340000000006"
      ]
     },
     "execution_count": 10,
     "metadata": {},
     "output_type": "execute_result"
    }
   ],
   "source": [
    "7.1439 * 3.6 + 17.0853"
   ]
  },
  {
   "cell_type": "markdown",
   "id": "58ce9b63",
   "metadata": {},
   "source": [
    "### Since 3.6 is in the range of the GPA provided in the data we can have:\n",
    "$$\n",
    "y = \\beta_{1} * x_{i}  + \\beta_{0}  = 7.1439 * x_{i} + 17.0853 \\\\\n",
    "y =  7.1439 * 3.6 + 17.0853 = 42.8033\n",
    "$$\n",
    "\n",
    "---"
   ]
  },
  {
   "cell_type": "markdown",
   "id": "043b8507",
   "metadata": {},
   "source": [
    "### e. What is 𝜎̂2 ?"
   ]
  },
  {
   "cell_type": "code",
   "execution_count": 11,
   "id": "d49b4b84",
   "metadata": {},
   "outputs": [
    {
     "name": "stdout",
     "output_type": "stream",
     "text": [
      "191.04472735782826\n",
      "20\n",
      "10.613595964323792\n"
     ]
    }
   ],
   "source": [
    "sse = np.sum([i**2 for i in residuals])\n",
    "print(sse)\n",
    "print(len(y))\n",
    "print(sse/(len(y)-2))"
   ]
  },
  {
   "cell_type": "markdown",
   "id": "a53f19e8",
   "metadata": {},
   "source": [
    "$$\n",
    "\\sigma^{2} = \\frac{SS_{e}}{DF} = \\frac{191.044}{20 - 2} = 10.613\n",
    "$$"
   ]
  },
  {
   "cell_type": "markdown",
   "id": "27175bf1",
   "metadata": {},
   "source": [
    "***\n",
    "\n",
    "# Q2\n",
    "\n",
    "***"
   ]
  },
  {
   "cell_type": "markdown",
   "id": "a561ba04",
   "metadata": {},
   "source": [
    "### 2. A hospital administrator wishes to study the relation between patient satisfaction and patient’s age, severity of illness, and anxiety level. The data is in HW11.xslx\n",
    "\n",
    "### a. Fit a linear regression model with the three predictor variables.\n"
   ]
  },
  {
   "cell_type": "code",
   "execution_count": 3,
   "id": "1687570e",
   "metadata": {},
   "outputs": [
    {
     "data": {
      "text/html": [
       "<table class=\"simpletable\">\n",
       "<caption>OLS Regression Results</caption>\n",
       "<tr>\n",
       "  <th>Dep. Variable:</th>      <td>Satisfaction</td>   <th>  R-squared:         </th> <td>   0.682</td>\n",
       "</tr>\n",
       "<tr>\n",
       "  <th>Model:</th>                   <td>OLS</td>       <th>  Adj. R-squared:    </th> <td>   0.659</td>\n",
       "</tr>\n",
       "<tr>\n",
       "  <th>Method:</th>             <td>Least Squares</td>  <th>  F-statistic:       </th> <td>   30.05</td>\n",
       "</tr>\n",
       "<tr>\n",
       "  <th>Date:</th>             <td>Mon, 04 Dec 2023</td> <th>  Prob (F-statistic):</th> <td>1.54e-10</td>\n",
       "</tr>\n",
       "<tr>\n",
       "  <th>Time:</th>                 <td>12:15:53</td>     <th>  Log-Likelihood:    </th> <td> -169.36</td>\n",
       "</tr>\n",
       "<tr>\n",
       "  <th>No. Observations:</th>      <td>    46</td>      <th>  AIC:               </th> <td>   346.7</td>\n",
       "</tr>\n",
       "<tr>\n",
       "  <th>Df Residuals:</th>          <td>    42</td>      <th>  BIC:               </th> <td>   354.0</td>\n",
       "</tr>\n",
       "<tr>\n",
       "  <th>Df Model:</th>              <td>     3</td>      <th>                     </th>     <td> </td>   \n",
       "</tr>\n",
       "<tr>\n",
       "  <th>Covariance Type:</th>      <td>nonrobust</td>    <th>                     </th>     <td> </td>   \n",
       "</tr>\n",
       "</table>\n",
       "<table class=\"simpletable\">\n",
       "<tr>\n",
       "           <td></td>              <th>coef</th>     <th>std err</th>      <th>t</th>      <th>P>|t|</th>  <th>[0.025</th>    <th>0.975]</th>  \n",
       "</tr>\n",
       "<tr>\n",
       "  <th>const</th>               <td>  158.4913</td> <td>   18.126</td> <td>    8.744</td> <td> 0.000</td> <td>  121.912</td> <td>  195.071</td>\n",
       "</tr>\n",
       "<tr>\n",
       "  <th>Age</th>                 <td>   -1.1416</td> <td>    0.215</td> <td>   -5.315</td> <td> 0.000</td> <td>   -1.575</td> <td>   -0.708</td>\n",
       "</tr>\n",
       "<tr>\n",
       "  <th>Severity of Illness</th> <td>   -0.4420</td> <td>    0.492</td> <td>   -0.898</td> <td> 0.374</td> <td>   -1.435</td> <td>    0.551</td>\n",
       "</tr>\n",
       "<tr>\n",
       "  <th>Anxiety Level</th>       <td>  -13.4702</td> <td>    7.100</td> <td>   -1.897</td> <td> 0.065</td> <td>  -27.798</td> <td>    0.858</td>\n",
       "</tr>\n",
       "</table>\n",
       "<table class=\"simpletable\">\n",
       "<tr>\n",
       "  <th>Omnibus:</th>       <td> 5.219</td> <th>  Durbin-Watson:     </th> <td>   1.214</td>\n",
       "</tr>\n",
       "<tr>\n",
       "  <th>Prob(Omnibus):</th> <td> 0.074</td> <th>  Jarque-Bera (JB):  </th> <td>   2.074</td>\n",
       "</tr>\n",
       "<tr>\n",
       "  <th>Skew:</th>          <td>-0.098</td> <th>  Prob(JB):          </th> <td>   0.354</td>\n",
       "</tr>\n",
       "<tr>\n",
       "  <th>Kurtosis:</th>      <td> 1.978</td> <th>  Cond. No.          </th> <td>    782.</td>\n",
       "</tr>\n",
       "</table><br/><br/>Notes:<br/>[1] Standard Errors assume that the covariance matrix of the errors is correctly specified."
      ],
      "text/latex": [
       "\\begin{center}\n",
       "\\begin{tabular}{lclc}\n",
       "\\toprule\n",
       "\\textbf{Dep. Variable:}      &   Satisfaction   & \\textbf{  R-squared:         } &     0.682   \\\\\n",
       "\\textbf{Model:}              &       OLS        & \\textbf{  Adj. R-squared:    } &     0.659   \\\\\n",
       "\\textbf{Method:}             &  Least Squares   & \\textbf{  F-statistic:       } &     30.05   \\\\\n",
       "\\textbf{Date:}               & Mon, 04 Dec 2023 & \\textbf{  Prob (F-statistic):} &  1.54e-10   \\\\\n",
       "\\textbf{Time:}               &     12:15:53     & \\textbf{  Log-Likelihood:    } &   -169.36   \\\\\n",
       "\\textbf{No. Observations:}   &          46      & \\textbf{  AIC:               } &     346.7   \\\\\n",
       "\\textbf{Df Residuals:}       &          42      & \\textbf{  BIC:               } &     354.0   \\\\\n",
       "\\textbf{Df Model:}           &           3      & \\textbf{                     } &             \\\\\n",
       "\\textbf{Covariance Type:}    &    nonrobust     & \\textbf{                     } &             \\\\\n",
       "\\bottomrule\n",
       "\\end{tabular}\n",
       "\\begin{tabular}{lcccccc}\n",
       "                             & \\textbf{coef} & \\textbf{std err} & \\textbf{t} & \\textbf{P$> |$t$|$} & \\textbf{[0.025} & \\textbf{0.975]}  \\\\\n",
       "\\midrule\n",
       "\\textbf{const}               &     158.4913  &       18.126     &     8.744  &         0.000        &      121.912    &      195.071     \\\\\n",
       "\\textbf{Age}                 &      -1.1416  &        0.215     &    -5.315  &         0.000        &       -1.575    &       -0.708     \\\\\n",
       "\\textbf{Severity of Illness} &      -0.4420  &        0.492     &    -0.898  &         0.374        &       -1.435    &        0.551     \\\\\n",
       "\\textbf{Anxiety Level}       &     -13.4702  &        7.100     &    -1.897  &         0.065        &      -27.798    &        0.858     \\\\\n",
       "\\bottomrule\n",
       "\\end{tabular}\n",
       "\\begin{tabular}{lclc}\n",
       "\\textbf{Omnibus:}       &  5.219 & \\textbf{  Durbin-Watson:     } &    1.214  \\\\\n",
       "\\textbf{Prob(Omnibus):} &  0.074 & \\textbf{  Jarque-Bera (JB):  } &    2.074  \\\\\n",
       "\\textbf{Skew:}          & -0.098 & \\textbf{  Prob(JB):          } &    0.354  \\\\\n",
       "\\textbf{Kurtosis:}      &  1.978 & \\textbf{  Cond. No.          } &     782.  \\\\\n",
       "\\bottomrule\n",
       "\\end{tabular}\n",
       "%\\caption{OLS Regression Results}\n",
       "\\end{center}\n",
       "\n",
       "Notes: \\newline\n",
       " [1] Standard Errors assume that the covariance matrix of the errors is correctly specified."
      ],
      "text/plain": [
       "<class 'statsmodels.iolib.summary.Summary'>\n",
       "\"\"\"\n",
       "                            OLS Regression Results                            \n",
       "==============================================================================\n",
       "Dep. Variable:           Satisfaction   R-squared:                       0.682\n",
       "Model:                            OLS   Adj. R-squared:                  0.659\n",
       "Method:                 Least Squares   F-statistic:                     30.05\n",
       "Date:                Mon, 04 Dec 2023   Prob (F-statistic):           1.54e-10\n",
       "Time:                        12:15:53   Log-Likelihood:                -169.36\n",
       "No. Observations:                  46   AIC:                             346.7\n",
       "Df Residuals:                      42   BIC:                             354.0\n",
       "Df Model:                           3                                         \n",
       "Covariance Type:            nonrobust                                         \n",
       "=======================================================================================\n",
       "                          coef    std err          t      P>|t|      [0.025      0.975]\n",
       "---------------------------------------------------------------------------------------\n",
       "const                 158.4913     18.126      8.744      0.000     121.912     195.071\n",
       "Age                    -1.1416      0.215     -5.315      0.000      -1.575      -0.708\n",
       "Severity of Illness    -0.4420      0.492     -0.898      0.374      -1.435       0.551\n",
       "Anxiety Level         -13.4702      7.100     -1.897      0.065     -27.798       0.858\n",
       "==============================================================================\n",
       "Omnibus:                        5.219   Durbin-Watson:                   1.214\n",
       "Prob(Omnibus):                  0.074   Jarque-Bera (JB):                2.074\n",
       "Skew:                          -0.098   Prob(JB):                        0.354\n",
       "Kurtosis:                       1.978   Cond. No.                         782.\n",
       "==============================================================================\n",
       "\n",
       "Notes:\n",
       "[1] Standard Errors assume that the covariance matrix of the errors is correctly specified.\n",
       "\"\"\""
      ]
     },
     "execution_count": 3,
     "metadata": {},
     "output_type": "execute_result"
    }
   ],
   "source": [
    "data = pd.read_excel(\"HW #11.xlsx\",sheet_name='Problem 2')\n",
    "data = data.sort_values(by='Satisfaction')\n",
    "y = data['Satisfaction']\n",
    "X = data[['Age', 'Severity of Illness', 'Anxiety Level']]\n",
    "\n",
    "# Adding a constant to the model (for the intercept)\n",
    "X = sm.add_constant(X)\n",
    "\n",
    "# Fitting the linear regression model\n",
    "model = sm.OLS(y, X).fit()\n",
    "\n",
    "# Getting the summary of the model\n",
    "model_summary = model.summary()\n",
    "model_summary\n"
   ]
  },
  {
   "cell_type": "markdown",
   "id": "9581e2d5",
   "metadata": {},
   "source": [
    "$$\n",
    "\\hat{y}_{i} = 13.47 * x_{3} + -.442 * x_{2} + -1.1416 * x_{1} + 157.4913\n",
    "$$\n",
    "\n",
    "# ---"
   ]
  },
  {
   "cell_type": "markdown",
   "id": "9a6e284c",
   "metadata": {},
   "source": [
    "### b. Using 𝑡 tests, what can be implied about 𝛽1, 𝛽2, and 𝛽3 (just conclusion required)?\n"
   ]
  },
  {
   "cell_type": "markdown",
   "id": "4fac30aa",
   "metadata": {},
   "source": [
    "### Age:\n",
    "#### the p value for age is 0 which is less than .05, that indicates that we can reject null hypothesis that there is no relation between age and saticfication. in other words  it indicates a significant relationship between patient age and satisfaction.\n",
    "\n",
    "### Severity of Illness:\n",
    "#### Here, the p-value is greater than 0.05, indicating that we fail to reject the null hypothesis. This implies that the coefficient for Severity of Illness is not significantly different from zero\n",
    "\n",
    "### Anxiety Level:\n",
    "#### The p-value is slightly above the 0.05 threshold, which typically suggests that the coefficient is not significantly different from zero at the 5% significance level\n",
    "\n",
    "# ---"
   ]
  },
  {
   "cell_type": "markdown",
   "id": "9b3b3573",
   "metadata": {},
   "source": [
    "### c. Interpret the estimated value of 𝛽1, the regression coefficient for patient’s age.\n"
   ]
  },
  {
   "cell_type": "markdown",
   "id": "d37c2aa5",
   "metadata": {},
   "source": [
    "#### the coefficient for age is  -1.1416, which means with one year age increase the satisfication level decrease 1.1416 level\n",
    "# ---"
   ]
  },
  {
   "cell_type": "markdown",
   "id": "ca7e68c5",
   "metadata": {},
   "source": [
    "### d. Obtain a prediction for patient satisfaction with respect to a 35-year-old patient, who has a 45 severity of illness index and a 2.2 anxiety level index.\n"
   ]
  },
  {
   "cell_type": "markdown",
   "id": "35a4d12d",
   "metadata": {},
   "source": [
    "$$\n",
    "\\hat{y}_{i} = 13.47 * x_{3} + -.442 * x_{2} + -1.1416 * x_{1} + 158.4913 \\\\ \n",
    "-13.47*2.2 + -.442*45 + -1.1416 * 35 + 158.49 = 69.01\n",
    "$$"
   ]
  },
  {
   "cell_type": "markdown",
   "id": "a9d9b26d",
   "metadata": {},
   "source": [
    "# ---"
   ]
  },
  {
   "cell_type": "markdown",
   "id": "f82889e6",
   "metadata": {},
   "source": [
    "### e. Construct a normal probability plot of the residuals, what can you conclude?\n"
   ]
  },
  {
   "cell_type": "code",
   "execution_count": 14,
   "id": "ba487572",
   "metadata": {},
   "outputs": [],
   "source": [
    "data['predicted_satisfaction'] = -13.47*data['Anxiety Level'] - 0.442 * data['Severity of Illness'] - 1.1416*data['Age'] + 158.49\n",
    "data['residuals'] = data['Satisfaction'] - data['predicted_satisfaction']"
   ]
  },
  {
   "cell_type": "code",
   "execution_count": 15,
   "id": "3725ef11",
   "metadata": {},
   "outputs": [
    {
     "data": {
      "image/png": "[encoded data removed]",
      "text/plain": [
       "<Figure size 800x600 with 1 Axes>"
      ]
     },
     "metadata": {},
     "output_type": "display_data"
    }
   ],
   "source": [
    "# Creating a normal probability plot\n",
    "plt.figure(figsize=(8, 6))\n",
    "stats.probplot(data.residuals, dist=\"norm\", plot=plt)\n",
    "plt.title(\"Normal Probability Plot of Residuals\")\n",
    "plt.xlabel(\"Theoretical Quantiles\")\n",
    "plt.ylabel(\"Ordered Values\")\n",
    "plt.grid(True)\n",
    "plt.show()\n"
   ]
  },
  {
   "cell_type": "markdown",
   "id": "442d532c",
   "metadata": {},
   "source": [
    "### since the residuals almost perfectly align with the line we can understand that the residuals have a normal distribution"
   ]
  },
  {
   "cell_type": "markdown",
   "id": "133ffa67",
   "metadata": {},
   "source": [
    "# ---"
   ]
  },
  {
   "cell_type": "markdown",
   "id": "86898aa6",
   "metadata": {},
   "source": [
    "### f. Construct a residual versus predicted plot, what can you conclude?"
   ]
  },
  {
   "cell_type": "code",
   "execution_count": 20,
   "id": "580ccf00",
   "metadata": {},
   "outputs": [
    {
     "data": {
      "image/png": "[encoded data removed]",
      "text/plain": [
       "<Figure size 640x480 with 1 Axes>"
      ]
     },
     "metadata": {},
     "output_type": "display_data"
    }
   ],
   "source": [
    "plt.scatter(data.predicted_satisfaction,data.residuals)\n",
    "plt.ylabel(\"Residuals\")\n",
    "plt.xlabel(\"predicted satisfaction\")\n",
    "plt.axhline(y=0, color='r', linestyle='-')\n",
    "plt.grid(True)\n",
    "plt.show()"
   ]
  },
  {
   "cell_type": "markdown",
   "id": "a928cca2",
   "metadata": {},
   "source": [
    "### the residuals seems to be randomly distributed around the horizontal line so there is no distinct relation berween residuals and the predicted value"
   ]
  },
  {
   "cell_type": "code",
   "execution_count": null,
   "id": "5ca369af",
   "metadata": {},
   "outputs": [],
   "source": []
  }
 ],
 "metadata": {
  "kernelspec": {
   "display_name": "Python 3 (ipykernel)",
   "language": "python",
   "name": "python3"
  },
  "language_info": {
   "codemirror_mode": {
    "name": "ipython",
    "version": 3
   },
   "file_extension": ".py",
   "mimetype": "text/x-python",
   "name": "python",
   "nbconvert_exporter": "python",
   "pygments_lexer": "ipython3",
   "version": "3.11.5"
  }
 },
 "nbformat": 4,
 "nbformat_minor": 5
}
