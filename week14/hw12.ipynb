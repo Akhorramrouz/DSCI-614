{
 "cells": [
  {
   "cell_type": "code",
   "execution_count": 18,
   "id": "03adb74b",
   "metadata": {},
   "outputs": [],
   "source": [
    "from scipy.stats import chi2, chi2_contingency\n",
    "import pandas as pd\n",
    "import numpy as np"
   ]
  },
  {
   "cell_type": "markdown",
   "id": "e3d1adab",
   "metadata": {},
   "source": [
    "# Q1\n",
    "## Criminologist have long debated whether there is a relationship between weather conditions and the incidence of violent crime. The author of the article “Is There a Season for Homicide?” classified 1361 homicides according to season, resulting in the accompanying data. Test the null hypothesis of equal proportions using 𝛼 = 0.01. \n",
    "\n",
    "\n",
    "### Winter Spring Summer Fall\n",
    "### 328 334 372 327\n",
    "\n",
    "\n",
    "#### a. Give the null and alternative hypotheses.\n"
   ]
  },
  {
   "cell_type": "markdown",
   "id": "c7d2cbc0",
   "metadata": {},
   "source": [
    "$H_0 : \\pi_{winter} = \\pi_{spring} = \\pi_{summer} = \\pi_{Fall} = \\frac{1}{4}$\n",
    "\n",
    "$H_0$ indicates that there is no significant relationship between season and homocides\n",
    "\n",
    "$H_a$ : at least one $\\pi_{i} \\neq \\frac{1}{4}$"
   ]
  },
  {
   "cell_type": "markdown",
   "id": "1ce8df1c",
   "metadata": {},
   "source": [
    "#### b. What is the expected count for each cell?\n"
   ]
  },
  {
   "cell_type": "code",
   "execution_count": 9,
   "id": "7ba510d0",
   "metadata": {},
   "outputs": [
    {
     "name": "stdout",
     "output_type": "stream",
     "text": [
      "340.25\n"
     ]
    }
   ],
   "source": [
    "observed = [328,334,372,327]\n",
    "df = len(observed) - 1\n",
    "N = np.sum(observed)\n",
    "expected = [N/len(observed)] * len(observed)\n",
    "print(expected[0])"
   ]
  },
  {
   "cell_type": "markdown",
   "id": "f1e969d9",
   "metadata": {},
   "source": [
    "excpected count for each season is :  $\\textbf{340.25}$"
   ]
  },
  {
   "cell_type": "markdown",
   "id": "8dd82d0d",
   "metadata": {},
   "source": [
    "#### c. What is the value of the chi-squared test statistic?\n"
   ]
  },
  {
   "cell_type": "code",
   "execution_count": 7,
   "id": "a64648e7",
   "metadata": {},
   "outputs": [
    {
     "name": "stdout",
     "output_type": "stream",
     "text": [
      "4.034533431300514\n"
     ]
    }
   ],
   "source": [
    "test_statistic = np.sum([((o-e)**2)/e for o,e in zip(observed,expected)])\n",
    "print(test_statistic)"
   ]
  },
  {
   "cell_type": "markdown",
   "id": "e4406f5f",
   "metadata": {},
   "source": [
    "chi-square test statistic is: $\\textbf{4.034}$"
   ]
  },
  {
   "cell_type": "markdown",
   "id": "159a6c3d",
   "metadata": {},
   "source": [
    "#### d. What is the p-value?\n"
   ]
  },
  {
   "cell_type": "code",
   "execution_count": 10,
   "id": "dd89de7b",
   "metadata": {},
   "outputs": [
    {
     "name": "stdout",
     "output_type": "stream",
     "text": [
      "0.25775920748891\n"
     ]
    }
   ],
   "source": [
    "p_val = 1- chi2.cdf(test_statistic, df)\n",
    "print(p_val)"
   ]
  },
  {
   "cell_type": "markdown",
   "id": "5aa08877",
   "metadata": {},
   "source": [
    "P value is $\\textbf{.2577}$"
   ]
  },
  {
   "cell_type": "markdown",
   "id": "12a3e962",
   "metadata": {},
   "source": [
    "#### e. What is your decision and conclusion?"
   ]
  },
  {
   "cell_type": "markdown",
   "id": "6e6ca145",
   "metadata": {},
   "source": [
    "Since the p-value (0.258) is greater than the significance level (α = 0.01), you do not have sufficient evidence to reject the null hypothesis. The decision is to fail to reject the null hypothesis.\n",
    "\n",
    "The conclusion is that the data do not provide strong evidence to suggest that the proportions of homicides are different across the seasons. This means that, based on the chi-square test performed, there is no statistical reason to believe that the incidence of homicide is related to the season."
   ]
  },
  {
   "cell_type": "markdown",
   "id": "4ac30dfc",
   "metadata": {},
   "source": [
    "# Q2\n",
    "## It is expected that the true blood types proportions for Americans is given in the table below. For a sample of 200 Americans, there blood types were tested and also are given in the table below. Use 𝛼 = 0.05.\n",
    "\n",
    "### A B AB O\n",
    "\n",
    "#### 89 18 12 81\n",
    "\n",
    "#### 0.41 0.1 0.04 0.45\n",
    "\n",
    "\n",
    "### a. Give the null and alternative hypotheses\n"
   ]
  },
  {
   "cell_type": "code",
   "execution_count": 16,
   "id": "023af3cc",
   "metadata": {},
   "outputs": [],
   "source": [
    "observed = [89,18,12,81]\n",
    "expected_probs = [.41,.1,.04,.45]"
   ]
  },
  {
   "cell_type": "markdown",
   "id": "4f99cf3d",
   "metadata": {},
   "source": [
    "$$\n",
    "H_0 :\\\\\n",
    "\\pi_{A} = .41\\\\\n",
    "\\pi_{B} = .1\\\\\n",
    "\\pi_{AB} = .04\\\\\n",
    "\\pi_{O} = .45\\\\\n",
    "\\\\\n",
    "H_1 : \\\\\n",
    "at\\ least\\ one \\ \\pi_{i} \\neq \\pi_{i,0}\n",
    "$$"
   ]
  },
  {
   "cell_type": "markdown",
   "id": "9eebbac5",
   "metadata": {},
   "source": [
    "### b. What are the expected counts for each category?\n"
   ]
  },
  {
   "cell_type": "code",
   "execution_count": 27,
   "id": "48e45f39",
   "metadata": {},
   "outputs": [
    {
     "data": {
      "text/html": [
       "<div>\n",
       "<style scoped>\n",
       "    .dataframe tbody tr th:only-of-type {\n",
       "        vertical-align: middle;\n",
       "    }\n",
       "\n",
       "    .dataframe tbody tr th {\n",
       "        vertical-align: top;\n",
       "    }\n",
       "\n",
       "    .dataframe thead th {\n",
       "        text-align: right;\n",
       "    }\n",
       "</style>\n",
       "<table border=\"1\" class=\"dataframe\">\n",
       "  <thead>\n",
       "    <tr style=\"text-align: right;\">\n",
       "      <th></th>\n",
       "      <th>Expected Number</th>\n",
       "    </tr>\n",
       "    <tr>\n",
       "      <th>Blood Type</th>\n",
       "      <th></th>\n",
       "    </tr>\n",
       "  </thead>\n",
       "  <tbody>\n",
       "    <tr>\n",
       "      <th>A</th>\n",
       "      <td>82.0</td>\n",
       "    </tr>\n",
       "    <tr>\n",
       "      <th>B</th>\n",
       "      <td>20.0</td>\n",
       "    </tr>\n",
       "    <tr>\n",
       "      <th>AB</th>\n",
       "      <td>8.0</td>\n",
       "    </tr>\n",
       "    <tr>\n",
       "      <th>O</th>\n",
       "      <td>90.0</td>\n",
       "    </tr>\n",
       "  </tbody>\n",
       "</table>\n",
       "</div>"
      ],
      "text/plain": [
       "            Expected Number\n",
       "Blood Type                 \n",
       "A                      82.0\n",
       "B                      20.0\n",
       "AB                      8.0\n",
       "O                      90.0"
      ]
     },
     "execution_count": 27,
     "metadata": {},
     "output_type": "execute_result"
    }
   ],
   "source": [
    "N = np.sum(observed)\n",
    "expected = [N*e for e in expected_probs]\n",
    "blood_types = ['A', 'B', 'AB', 'O']\n",
    "expected_numbers = expected\n",
    "\n",
    "# Create the DataFrame\n",
    "df_blood_types = pd.DataFrame(data={'Blood Type': blood_types, 'Expected Number': expected_numbers})\n",
    "df_blood_types.set_index(\"Blood Type\",inplace=True)\n",
    "\n",
    "df_blood_types\n"
   ]
  },
  {
   "cell_type": "markdown",
   "id": "b318397b",
   "metadata": {},
   "source": [
    "### c. What is the chi-squared test statistic?\n"
   ]
  },
  {
   "cell_type": "code",
   "execution_count": 28,
   "id": "e3d0e717",
   "metadata": {},
   "outputs": [
    {
     "data": {
      "text/plain": [
       "3.6975609756097563"
      ]
     },
     "execution_count": 28,
     "metadata": {},
     "output_type": "execute_result"
    }
   ],
   "source": [
    "test_statistic = np.sum([((o-e)**2)/e for o,e in zip(observed, expected)])\n",
    "test_statistic"
   ]
  },
  {
   "cell_type": "markdown",
   "id": "45fda177",
   "metadata": {},
   "source": [
    "chi-square test statistic is :$\\textbf{3.6975}$"
   ]
  },
  {
   "cell_type": "markdown",
   "id": "04ddddd9",
   "metadata": {},
   "source": [
    "### d. What is the chi-squared critical value (for the rejection region)?"
   ]
  },
  {
   "cell_type": "code",
   "execution_count": 29,
   "id": "fec02520",
   "metadata": {},
   "outputs": [
    {
     "data": {
      "text/plain": [
       "7.814727903251179"
      ]
     },
     "execution_count": 29,
     "metadata": {},
     "output_type": "execute_result"
    }
   ],
   "source": [
    "chi2.ppf(.95,df)"
   ]
  },
  {
   "cell_type": "markdown",
   "id": "01e97176",
   "metadata": {},
   "source": [
    " the chi-squared critical value is: $\\textbf{7.8147}$"
   ]
  },
  {
   "cell_type": "markdown",
   "id": "3df8250e",
   "metadata": {},
   "source": [
    "### e. What is your decision and conclusion?"
   ]
  },
  {
   "cell_type": "markdown",
   "id": "cb141f6f",
   "metadata": {},
   "source": [
    "Since the test statistic is smaller than the critical value we fail to reject the null hypothesis and we do not have enough evidence to reject that our sample portions is different from the populatopn porportion significantly"
   ]
  },
  {
   "cell_type": "markdown",
   "id": "8d33839a",
   "metadata": {},
   "source": [
    "# Q3\n",
    "## Three website designs are being compared. Sixty students have agreed to be subjects for the study, and they are randomly assigned (equally to each group) to watch of the designs for as long as they like. For each student, the study directors record whether or not the website is watched for more than a minute. For the first design, 16 students watched for more than a minute; for the second, 5 watched for more than a minute; for the third, 10 students watched for more than a minute.\n",
    "#### a. What are the null and alternative hypotheses?\n"
   ]
  },
  {
   "cell_type": "code",
   "execution_count": 30,
   "id": "a04810ef",
   "metadata": {},
   "outputs": [],
   "source": [
    "import pandas as pd\n",
    "from scipy.stats import chi2_contingency, chi2"
   ]
  },
  {
   "cell_type": "code",
   "execution_count": 32,
   "id": "8fd7530c",
   "metadata": {},
   "outputs": [],
   "source": [
    "observed =  [\n",
    "    [16, 20-16],\n",
    "    [5,20-5],\n",
    "    [10,20-10]\n",
    "]"
   ]
  },
  {
   "cell_type": "markdown",
   "id": "5f2b5a39",
   "metadata": {},
   "source": [
    "$H_0 : The number of students who keep wathcing the website is independent from the website design$\n",
    "\n",
    "$H_a$ indicates that there is a significant relationship between number of students keep watching the website after a minute and the website design"
   ]
  },
  {
   "cell_type": "markdown",
   "id": "70bf3a74",
   "metadata": {},
   "source": [
    "#### b. What is the test statistic?\n"
   ]
  },
  {
   "cell_type": "code",
   "execution_count": 33,
   "id": "8da3b678",
   "metadata": {},
   "outputs": [
    {
     "data": {
      "text/plain": [
       "Chi2ContingencyResult(statistic=12.146829810901002, pvalue=0.0023032942332463255, dof=2, expected_freq=array([[10.33333333,  9.66666667],\n",
       "       [10.33333333,  9.66666667],\n",
       "       [10.33333333,  9.66666667]]))"
      ]
     },
     "execution_count": 33,
     "metadata": {},
     "output_type": "execute_result"
    }
   ],
   "source": [
    "chi2_contingency(observed)"
   ]
  },
  {
   "cell_type": "markdown",
   "id": "1548f1a2",
   "metadata": {},
   "source": [
    "test statistic is: $\\textbf{12.1468}$"
   ]
  },
  {
   "cell_type": "markdown",
   "id": "911d770b",
   "metadata": {},
   "source": [
    "#### c. What is the p-value?\n"
   ]
  },
  {
   "cell_type": "markdown",
   "id": "3a918203",
   "metadata": {},
   "source": [
    "P value is $\\textbf{0.0023}$"
   ]
  },
  {
   "cell_type": "markdown",
   "id": "2a4a754c",
   "metadata": {},
   "source": [
    "#### d. What is your decision and conclusion?\n"
   ]
  },
  {
   "cell_type": "markdown",
   "id": "ed5c72b0",
   "metadata": {},
   "source": [
    "Since p value is less than level of significance we can reject the null hypothesis and coclude there is a relationship between the design and number of students who keep watching after a minute"
   ]
  },
  {
   "cell_type": "markdown",
   "id": "655d9ab1",
   "metadata": {},
   "source": [
    "#### e. Which website design would you recommend?"
   ]
  },
  {
   "cell_type": "code",
   "execution_count": 35,
   "id": "dfbd0b0d",
   "metadata": {},
   "outputs": [
    {
     "data": {
      "image/png": "[encoded data removed]",
      "text/plain": [
       "<Figure size 640x480 with 3 Axes>"
      ]
     },
     "metadata": {},
     "output_type": "display_data"
    }
   ],
   "source": [
    "from statsmodels.graphics.mosaicplot import mosaic\n",
    "import matplotlib.pyplot as plt\n",
    "\n",
    "data = {\n",
    "    (\"first design\",\"more than 1 min\") : 16,\n",
    "    (\"second design\",\"more than 1 min\") : 5,\n",
    "    (\"third design\",\"more than 1 min\") : 10,\n",
    "    (\"first design\",\"less than 1 min\") : 4,\n",
    "    (\"second design\",\"less than 1 min\") : 15,\n",
    "    (\"third design\",\"less than 1 min\") : 10\n",
    "}\n",
    "\n",
    "mosaic(data)\n",
    "plt.show()"
   ]
  },
  {
   "cell_type": "markdown",
   "id": "897c5eb0",
   "metadata": {},
   "source": [
    "we can see from the provided plot that the first design has the best success rate among all other designs so the first design is the best one to choose"
   ]
  }
 ],
 "metadata": {
  "kernelspec": {
   "display_name": "Python 3 (ipykernel)",
   "language": "python",
   "name": "python3"
  },
  "language_info": {
   "codemirror_mode": {
    "name": "ipython",
    "version": 3
   },
   "file_extension": ".py",
   "mimetype": "text/x-python",
   "name": "python",
   "nbconvert_exporter": "python",
   "pygments_lexer": "ipython3",
   "version": "3.11.5"
  }
 },
 "nbformat": 4,
 "nbformat_minor": 5
}
