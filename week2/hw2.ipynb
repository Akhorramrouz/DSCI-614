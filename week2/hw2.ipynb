{
 "cells": [
  {
   "cell_type": "markdown",
   "id": "6bf59ba0",
   "metadata": {},
   "source": [
    "# Adel Khorramrouz\n",
    "## ak8480@rit.edu"
   ]
  },
  {
   "cell_type": "code",
   "execution_count": 6,
   "id": "8396d042",
   "metadata": {},
   "outputs": [],
   "source": [
    "import math"
   ]
  },
  {
   "cell_type": "markdown",
   "id": "b8c80ec8",
   "metadata": {},
   "source": [
    "# 1\n",
    "### A lot of 150 semiconductor chips contains 12 that are defective. Two are selected randomly, without replacement, from the lot.\n",
    "\n",
    "### a.\n",
    "#### What is the probability that the first one selected is defective?\n"
   ]
  },
  {
   "cell_type": "markdown",
   "id": "71304ee2",
   "metadata": {},
   "source": [
    "$$\n",
    "P(Defective) = \\frac{12}{150} = .08\n",
    "$$"
   ]
  },
  {
   "cell_type": "markdown",
   "id": "caf653a2",
   "metadata": {},
   "source": [
    "### b. \n",
    "#### What is the probability that the second one selected is defective given that the first one was defective?\n"
   ]
  },
  {
   "cell_type": "markdown",
   "id": "9e3203e1",
   "metadata": {},
   "source": [
    "$$\n",
    "P(Second Defective | First Defective) = \\frac{11}{149} = .0738\n",
    "$$"
   ]
  },
  {
   "cell_type": "markdown",
   "id": "2e0258d5",
   "metadata": {},
   "source": [
    "### c. \n",
    "#### What is the probability that both are defective? "
   ]
  },
  {
   "cell_type": "code",
   "execution_count": 2,
   "id": "665bd0de",
   "metadata": {},
   "outputs": [
    {
     "data": {
      "text/plain": [
       "0.005906040268456376"
      ]
     },
     "execution_count": 2,
     "metadata": {},
     "output_type": "execute_result"
    }
   ],
   "source": [
    "math.comb(12,2) / math.comb(150,2)"
   ]
  },
  {
   "cell_type": "markdown",
   "id": "9e5086a2",
   "metadata": {},
   "source": [
    "A:\\\n",
    "$$\n",
    "\\frac{\\binom{12}{2}}{\\binom{150}{2}} = .0059\n",
    "$$"
   ]
  },
  {
   "cell_type": "markdown",
   "id": "21be3735",
   "metadata": {},
   "source": [
    "B:\\$$\n",
    "P(First Defective \\cap Second Defective) = P(Second Defective | First Defective ) * P(First Defective) = .08 * .738 = .0059\n",
    "$$"
   ]
  },
  {
   "cell_type": "markdown",
   "id": "40b47e23",
   "metadata": {},
   "source": [
    "# --------------------------------------------"
   ]
  },
  {
   "cell_type": "markdown",
   "id": "45d05a33",
   "metadata": {},
   "source": [
    "## 2. \n",
    "### Suppose that 𝑃(𝐵|𝐴) = 0.35, 𝑃(𝐵|𝐴′) = 0.25, and 𝑃(𝐴) = 0.7. What is 𝑃(𝐵)? "
   ]
  },
  {
   "cell_type": "markdown",
   "id": "bad4dc8b",
   "metadata": {},
   "source": [
    "### Answer:"
   ]
  },
  {
   "cell_type": "markdown",
   "id": "30711801",
   "metadata": {},
   "source": [
    "$$\n",
    "P(B) = P(B|A)*P(A) + P(B|A')*P(A') = 0.35 * 0.7 + .25 * (1 - 0.7) = .245 + .075 = .32\n",
    "$$\n",
    "\n"
   ]
  },
  {
   "cell_type": "markdown",
   "id": "5fd15c2a",
   "metadata": {},
   "source": [
    "# ----------------------------------------------------------"
   ]
  },
  {
   "cell_type": "markdown",
   "id": "ce4a3af2",
   "metadata": {},
   "source": [
    "# 3.\n",
    "\n",
    "### A friend of mine is giving a dinner party. His current wine supply includes 7 bottles of Zinfandel, 5 of Merlot, and 10 of Cabernet, all from different wineries.\n",
    "\n",
    "### a. \n",
    "#### If they want to serve 3 bottles of Zinfandel and serving order is important, how many ways are there to do this? "
   ]
  },
  {
   "cell_type": "markdown",
   "id": "f0d0d0d6",
   "metadata": {},
   "source": [
    "$$\n",
    "\\binom{7}{3} = P(7, 3) = \\frac{7!}{4!} = \\frac{7 \\cdot 6 \\cdot 5 \\cdot 4!}{4!} = 7 \\cdot 6 \\cdot 5 = 210\n",
    "$$"
   ]
  },
  {
   "cell_type": "markdown",
   "id": "472ba9ae",
   "metadata": {},
   "source": [
    "### b.\n",
    "#### If 6 bottles of wine are randomly selected from the total number of bottles for serving, how many ways are there to do this?"
   ]
  },
  {
   "cell_type": "code",
   "execution_count": 3,
   "id": "34084113",
   "metadata": {},
   "outputs": [
    {
     "name": "stdout",
     "output_type": "stream",
     "text": [
      "74613\n"
     ]
    }
   ],
   "source": [
    "import math\n",
    "print(math.comb(22,6))"
   ]
  },
  {
   "cell_type": "markdown",
   "id": "96323f3e",
   "metadata": {},
   "source": [
    "since it is not mentioned that order matters we use combination here\n",
    "\n",
    "$$\n",
    "\\binom{22}{6} = C(22,6) = \\frac{22!}{16! * 6!} = 74613\n",
    "$$"
   ]
  },
  {
   "cell_type": "markdown",
   "id": "2f258c55",
   "metadata": {},
   "source": [
    "### C.\n",
    "#### If 6 bottles are randomly selected, how many ways are there to obtain two bottles of each variety? "
   ]
  },
  {
   "cell_type": "code",
   "execution_count": 4,
   "id": "a904d970",
   "metadata": {},
   "outputs": [
    {
     "data": {
      "text/plain": [
       "9450"
      ]
     },
     "execution_count": 4,
     "metadata": {},
     "output_type": "execute_result"
    }
   ],
   "source": [
    "math.comb(7,2) * math.comb(5,2) * math.comb(10,2)"
   ]
  },
  {
   "cell_type": "markdown",
   "id": "17835e47",
   "metadata": {},
   "source": [
    "Based on the Multiplication Rule and since order does not matter so combination we have"
   ]
  },
  {
   "cell_type": "markdown",
   "id": "3a71e160",
   "metadata": {},
   "source": [
    "$$\n",
    "\\binom{7}{2} * \\binom{5}{2} * \\binom{10}{2} = 21 * 10 * 45 = 9450\n",
    "$$"
   ]
  },
  {
   "cell_type": "markdown",
   "id": "c8446c85",
   "metadata": {},
   "source": [
    "### d.\n",
    "#### If 6 bottles are randomly selected, what is the probability of selecting two bottles of each variety? "
   ]
  },
  {
   "cell_type": "code",
   "execution_count": 5,
   "id": "6af73a54",
   "metadata": {},
   "outputs": [
    {
     "data": {
      "text/plain": [
       "0.12665353222628764"
      ]
     },
     "execution_count": 5,
     "metadata": {},
     "output_type": "execute_result"
    }
   ],
   "source": [
    "9450/74613"
   ]
  },
  {
   "cell_type": "markdown",
   "id": "1aa462c0",
   "metadata": {},
   "source": [
    "based on $B$ and $C$ we should just calculate the \n",
    "$$P = \\frac{C}{B} = \\frac{9450}{74613} = 0.1266$$"
   ]
  },
  {
   "cell_type": "markdown",
   "id": "d3e1d163",
   "metadata": {},
   "source": [
    "## ------------------------------------------------"
   ]
  },
  {
   "cell_type": "markdown",
   "id": "e10a9fb4",
   "metadata": {},
   "source": [
    "# 4\n",
    "### At a certain gas station, 70% of the customers use regular gas (𝐴1) and 30% use premium (𝐴2). Of those customers using regular gas, only 25% fill their tanks (event 𝐵). Of those customers using premium, 88% fill their tanks.\n",
    "\n",
    "### a. \n",
    "##### What is the probability that the next customer will request premium gas and fill their tank (𝐴2 ∩ 𝐵)?\n"
   ]
  },
  {
   "cell_type": "markdown",
   "id": "ec0ca7f4",
   "metadata": {},
   "source": [
    "$$\n",
    "P(A2 \\cap B) = P(B | A2) * P(A2) = 0.88 * 0.3 = \\textbf{0.264}\n",
    "$$"
   ]
  },
  {
   "cell_type": "markdown",
   "id": "47585e42",
   "metadata": {},
   "source": [
    "### b. \n",
    "##### What is the probability that the next customer fills the tank?\n"
   ]
  },
  {
   "cell_type": "markdown",
   "id": "9ee192a6",
   "metadata": {},
   "source": [
    "$$\n",
    "P(B) = P(B |A1) * P(A1) + P(B|A2) * P(A2) = .25 * .7 + .88 * .3 = \\textbf{.439}\n",
    "$$"
   ]
  },
  {
   "cell_type": "markdown",
   "id": "025b28ce",
   "metadata": {},
   "source": [
    "### c. \n",
    "##### If the next customer fills the tank, what is the probability that premium gas is requested? "
   ]
  },
  {
   "cell_type": "markdown",
   "id": "aa1667ac",
   "metadata": {},
   "source": [
    "$$\n",
    "P(A2 | B) = ?\n",
    "$$"
   ]
  },
  {
   "cell_type": "markdown",
   "id": "c26f90ff",
   "metadata": {},
   "source": [
    "$$\n",
    "P (A2 | B) = \\frac{P(B | A2) * P(A2)}{P(B)} = \\frac{.88 * .3}{.439} = \\textbf{.601}\n",
    "$$"
   ]
  }
 ],
 "metadata": {
  "kernelspec": {
   "display_name": "Python 3 (ipykernel)",
   "language": "python",
   "name": "python3"
  },
  "language_info": {
   "codemirror_mode": {
    "name": "ipython",
    "version": 3
   },
   "file_extension": ".py",
   "mimetype": "text/x-python",
   "name": "python",
   "nbconvert_exporter": "python",
   "pygments_lexer": "ipython3",
   "version": "3.9.13"
  }
 },
 "nbformat": 4,
 "nbformat_minor": 5
}
