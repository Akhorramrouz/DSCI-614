{
 "cells": [
  {
   "cell_type": "code",
   "execution_count": 1,
   "id": "7557445f",
   "metadata": {},
   "outputs": [],
   "source": [
    "from scipy import stats\n",
    "import numpy as np\n",
    "import pandas as pd"
   ]
  },
  {
   "cell_type": "code",
   "execution_count": 2,
   "id": "9a4f6532",
   "metadata": {},
   "outputs": [],
   "source": [
    "def ci_mu_known_sigma(data, sigma,confidence_level, side=\"double\"):\n",
    "    alpha = 1 - confidence_level\n",
    "    z_dist = stats.norm(0,1)\n",
    "    x_bar = np.mean(data)\n",
    "    n = len(data)\n",
    "    if side == \"double\":\n",
    "        critical_value = np.round(z_dist.ppf(1 - (alpha/2)),2)\n",
    "        interval = critical_value*sigma/np.sqrt(n)\n",
    "        return (np.round(x_bar-interval,2), np.round(x_bar+interval,2))\n",
    "    elif side == \"low\":\n",
    "        critical_value = np.round(z_dist.ppf(1 - (alpha)),2)\n",
    "        interval = critical_value*sigma/np.sqrt(n)\n",
    "        return np.round(x_bar-interval,2)\n",
    "    elif side == \"up\":\n",
    "        critical_value = np.round(z_dist.ppf(1 - (alpha)),2)\n",
    "        interval = critical_value*sigma/np.sqrt(n)\n",
    "        return np.round(x_bar+interval,2)"
   ]
  },
  {
   "cell_type": "markdown",
   "id": "1900e22f",
   "metadata": {},
   "source": [
    "### 1. A CI is desired for the true average stray-load loss 𝜇 (watts) for a certain type of induction motor when the line current is held at 10 amps for a speed of 1500 rpm. Assume that strayload loss is normally distributed with 𝜎 = 3.0.\n",
    "#### a. Compute a 95% CI for 𝜇 when 𝑛 = 25 and 𝑥̅= 60.\n",
    " "
   ]
  },
  {
   "cell_type": "code",
   "execution_count": 3,
   "id": "253005ce",
   "metadata": {},
   "outputs": [
    {
     "name": "stdout",
     "output_type": "stream",
     "text": [
      "the 95% confidence interval is from 58.82402160927597 to 61.17597839072403\n"
     ]
    }
   ],
   "source": [
    "sigma = 3\n",
    "n = 25\n",
    "x_bar = 60\n",
    "z_dist = stats.norm(0,1)\n",
    "critical_value = z_dist.ppf(.975) * sigma / np.sqrt(n)\n",
    "lower_band = x_bar - critical_value\n",
    "upper_band = x_bar + critical_value\n",
    "print(f\"the 95% confidence interval is from {lower_band} to {upper_band}\")"
   ]
  },
  {
   "cell_type": "markdown",
   "id": "7d25ee01",
   "metadata": {},
   "source": [
    "#### b. Compute a 95% CI for 𝜇 when 𝑛 = 100 and 𝑥̅= 60.\n"
   ]
  },
  {
   "cell_type": "code",
   "execution_count": 4,
   "id": "9ab0e96c",
   "metadata": {},
   "outputs": [
    {
     "name": "stdout",
     "output_type": "stream",
     "text": [
      "the 95% confidence interval is from 59.41201080463799 to 60.58798919536201\n"
     ]
    }
   ],
   "source": [
    "sigma = 3\n",
    "n = 100\n",
    "x_bar = 60\n",
    "z_dist = stats.norm(0,1)\n",
    "critical_value = z_dist.ppf(.975) * sigma / np.sqrt(n)\n",
    "lower_band = x_bar - critical_value\n",
    "upper_band = x_bar + critical_value\n",
    "print(f\"the 95% confidence interval is from {lower_band} to {upper_band}\")"
   ]
  },
  {
   "cell_type": "markdown",
   "id": "6ecad915",
   "metadata": {},
   "source": [
    "#### c. Compute a 99% CI for 𝜇 when 𝑛 = 100 and 𝑥̅= 60."
   ]
  },
  {
   "cell_type": "code",
   "execution_count": 5,
   "id": "a62a1fd6",
   "metadata": {},
   "outputs": [
    {
     "name": "stdout",
     "output_type": "stream",
     "text": [
      "the 99% confidence interval is from 59.22725120893533 to 60.77274879106467\n"
     ]
    }
   ],
   "source": [
    "sigma = 3\n",
    "n = 100\n",
    "x_bar = 60\n",
    "z_dist = stats.norm(0,1)\n",
    "critical_value = z_dist.ppf(.995) * sigma / np.sqrt(n)\n",
    "lower_band = x_bar - critical_value\n",
    "upper_band = x_bar + critical_value\n",
    "print(f\"the 99% confidence interval is from {lower_band} to {upper_band}\")"
   ]
  },
  {
   "cell_type": "markdown",
   "id": "824cd71f",
   "metadata": {},
   "source": [
    "#### d. Compute an 82% CI for 𝜇 when 𝑛 = 100 and 𝑥̅= 60."
   ]
  },
  {
   "cell_type": "code",
   "execution_count": 6,
   "id": "557aba64",
   "metadata": {},
   "outputs": [
    {
     "name": "stdout",
     "output_type": "stream",
     "text": [
      "the 82% confidence interval is from 59.59777348989294 to 60.40222651010706\n"
     ]
    }
   ],
   "source": [
    "sigma = 3\n",
    "n = 100\n",
    "x_bar = 60\n",
    "z_dist = stats.norm(0,1)\n",
    "critical_value = z_dist.ppf(.91) * sigma / np.sqrt(n)\n",
    "lower_band = x_bar - critical_value\n",
    "upper_band = x_bar + critical_value\n",
    "print(f\"the 82% confidence interval is from {lower_band} to {upper_band}\")"
   ]
  },
  {
   "cell_type": "markdown",
   "id": "6194f4e8",
   "metadata": {},
   "source": [
    "#### e. What does this imply about the sample size and confidence level as pertaining to the length of the intervals? Justify your answer."
   ]
  },
  {
   "cell_type": "markdown",
   "id": "03abc009",
   "metadata": {},
   "source": [
    "<span style=\"color:blue\">\n",
    "As the sample size increases, the standard error of the sample mean decreases. This means the distribution of the sample mean becomes more concentrated around the population mean.\\\\\n",
    "A higher confidence level (e.g., 95% vs. 90%) means we want to be more sure that the population parameter lies within our interval. This results in a wider interval because we're accounting for more potential variability.\n",
    "<span>"
   ]
  },
  {
   "cell_type": "markdown",
   "id": "c73c237b",
   "metadata": {},
   "source": [
    "***"
   ]
  },
  {
   "cell_type": "markdown",
   "id": "f4e3bc4e",
   "metadata": {},
   "source": [
    "### 2. An engineer is doing a study in a manufacturing setting on the lengths of paperclips. The sample he collected is in the dataset paperclips.xlsx. He would like to create a 2-sided confidence interval for the true mean length. Assume that the distribution of paperclips is normal.\n",
    "#### a. Estimate the mean, standard deviation, and standard error of the mean"
   ]
  },
  {
   "cell_type": "code",
   "execution_count": 8,
   "id": "7984bade",
   "metadata": {},
   "outputs": [
    {
     "name": "stdout",
     "output_type": "stream",
     "text": [
      "x_bar = 5.367996000000001\n",
      "S = 2.086490847308476\n",
      "n = 50\n"
     ]
    }
   ],
   "source": [
    "df = pd.read_excel(\"paperclips.xlsx\")\n",
    "x_bar = df['Length'].mean()\n",
    "S = df['Length'].std()\n",
    "n = len(df)\n",
    "print(f\"{x_bar = }\")\n",
    "print(f\"{S = }\")\n",
    "print(f\"{n = }\")"
   ]
  },
  {
   "cell_type": "markdown",
   "id": "495c05d7",
   "metadata": {},
   "source": [
    "\n",
    "### Since the the distribution is normal we have\n",
    "\n",
    "$$\n",
    "\\mu = \\bar{X} \\\\ \n",
    "\\mu = 5.37 \\\\\n",
    "S = 2.09 \\\\\n",
    "n = 50 \\\\\n",
    "degree\\ of\\ freedom = 49 \\\\ \n",
    "standard\\ erorr\\ of\\ mean = \\frac{S}{\\sqrt{n}} = \\frac{2.09}{\\sqrt{50}} = 0.296\n",
    "$$"
   ]
  },
  {
   "cell_type": "markdown",
   "id": "25df66cb",
   "metadata": {},
   "source": [
    "#### b. Find a two-sided 95% confidence interval for the mean and interpret"
   ]
  },
  {
   "cell_type": "code",
   "execution_count": 9,
   "id": "c37148a1",
   "metadata": {},
   "outputs": [
    {
     "data": {
      "text/plain": [
       "2.009575234489209"
      ]
     },
     "execution_count": 9,
     "metadata": {},
     "output_type": "execute_result"
    }
   ],
   "source": [
    "stats.t.ppf(.975,49)"
   ]
  },
  {
   "cell_type": "markdown",
   "id": "05c032d5",
   "metadata": {},
   "source": [
    "$$\n",
    "\\mu \\in \\bar{X} \\pm t_{\\alpha/2,v} * \\frac{S}{\\sqrt{n}} \\\\\n",
    "t_{.025,49} = 2.01 \\\\ \n",
    "\\mu \\in 5.37 \\pm .296 * 2.01 = 5.37 \\pm .595 \\\\\n",
    "\\mu \\in (4.775, 5.965)\n",
    "$$"
   ]
  },
  {
   "cell_type": "markdown",
   "id": "5f033271",
   "metadata": {},
   "source": [
    "#### c. Now the engineer decided that he is more concerned with the paperclips being too long and would like to know the average upper limit. Create the appropriate 95% confidence bound taking this into account. Interpret the interval"
   ]
  },
  {
   "cell_type": "code",
   "execution_count": 10,
   "id": "9a06cecf",
   "metadata": {},
   "outputs": [
    {
     "data": {
      "text/plain": [
       "1.6765508919142629"
      ]
     },
     "execution_count": 10,
     "metadata": {},
     "output_type": "execute_result"
    }
   ],
   "source": [
    "stats.t.ppf(.95,49)"
   ]
  },
  {
   "cell_type": "markdown",
   "id": "068e8fd7",
   "metadata": {},
   "source": [
    "$$\n",
    "\\mu \\leq \\bar{X} + t_{\\alpha,v} * \\frac{S}{\\sqrt{n}} \\\\\n",
    "t_{.05,49} = 1.677 \\\\ \n",
    "\\mu \\leq 5.37 + .296 * 1.677 = 5.37 + .496 \\\\\n",
    "\\mu \\leq 5.866\n",
    "$$"
   ]
  },
  {
   "cell_type": "markdown",
   "id": "d20e8e1a",
   "metadata": {},
   "source": [
    "### 3. A Gallup poll was taken in which 1487 adults were surveyed and 43% of them said that they have a Facebook page.\n",
    "#### a. Find the best point estimate of the proportion of all adults who have a Facebook page."
   ]
  },
  {
   "cell_type": "markdown",
   "id": "9a47e00b",
   "metadata": {},
   "source": [
    "<span style=\"color:blue\">\n",
    "    \n",
    "### The best point estimate of the proportion of all adults who have a Facebook page is simply the sample proportion \n",
    "$$\\hat{P} = .43 = 43\\%$$\n",
    "<span>"
   ]
  },
  {
   "cell_type": "markdown",
   "id": "79566fc7",
   "metadata": {},
   "source": [
    "#### b. Find the 90% confidence interval estimate of the population proportion 𝑝."
   ]
  },
  {
   "cell_type": "code",
   "execution_count": 11,
   "id": "ee638094",
   "metadata": {},
   "outputs": [
    {
     "name": "stdout",
     "output_type": "stream",
     "text": [
      "1.6448536269514722\n",
      "0.012838555751569045\n",
      "0.020992\n"
     ]
    }
   ],
   "source": [
    "z_dist = stats.norm(0,1)\n",
    "print(z_dist.ppf(.95))\n",
    "print(np.sqrt(.43*(1-.43)/1487))\n",
    "print(1.64*0.0128)"
   ]
  },
  {
   "cell_type": "markdown",
   "id": "13fe3c53",
   "metadata": {},
   "source": [
    "$$\n",
    "\\hat{P} \\sim N(P, \\sqrt{\\frac{P(1-P)}{n}}) \\\\\n",
    "\\alpha = .1 \\\\ \n",
    "z_{\\alpha/2} = z_.05 = 1.64 \\\\\n",
    "\\pi \\sim \\hat{p}\\pm 1.64* \\sqrt{\\frac{p*(1-p)}{n}} = 43 \\pm 1.64*1.28 = 43 \\pm 2.1 \\\\\n",
    "$$"
   ]
  },
  {
   "cell_type": "markdown",
   "id": "02dc1969",
   "metadata": {},
   "source": [
    "#### c. Based on the results, can we safely conclude that fewer than 50% of adults have Facebook pages?"
   ]
  },
  {
   "cell_type": "markdown",
   "id": "2b0caa66",
   "metadata": {},
   "source": [
    "<span style=\"color:blue\">\n",
    "    \n",
    "### The 90% confidence interval for the proportion of adults who have Facebook pages is (40.9, 45.1). Since the entire interval is below 0.50 (or 50%), we can conclude with 90% confidence that fewer than 50% of adults have Facebook pages.\n",
    "### So, based on the results, we can safely conclude that fewer than 50% of adults have Facebook pages at the 90% confidence level.\n",
    "<span>"
   ]
  },
  {
   "cell_type": "markdown",
   "id": "dc414749",
   "metadata": {},
   "source": [
    "### 4. The sugar content of the syrup in canned peaches is normally distributed. A random sample of n=10 cans yields a sample standard deviation of s = 4.8 milligrams. Find a 95% two-side confidence interval for σ."
   ]
  },
  {
   "cell_type": "code",
   "execution_count": 12,
   "id": "a9952acf",
   "metadata": {},
   "outputs": [
    {
     "data": {
      "text/plain": [
       "2.7003894999803584"
      ]
     },
     "execution_count": 12,
     "metadata": {},
     "output_type": "execute_result"
    }
   ],
   "source": [
    "stats.chi2.ppf(.025,9)"
   ]
  },
  {
   "cell_type": "markdown",
   "id": "be93f592",
   "metadata": {},
   "source": [
    "$$\n",
    "(\\sqrt{\\frac{s^2*(n-1)}{X_{v,\\alpha/2}^2}}) \\leq \\sigma \\leq (\\sqrt{\\frac{s^2*(n-1)}{X_{v,1 - \\alpha/2}^2}}) \\\\\n",
    "\\sqrt{\\frac{207.36}{19.02}} \\leq \\sigma \\leq \\sqrt{\\frac{207.36}{2.70}} \\\\\n",
    "\\sqrt{10.90} \\leq \\sigma \\leq \\sqrt{76.8} \\\\ \n",
    "3.30 \\leq \\sigma \\leq 8.76\n",
    "$$"
   ]
  }
 ],
 "metadata": {
  "kernelspec": {
   "display_name": "Python 3 (ipykernel)",
   "language": "python",
   "name": "python3"
  },
  "language_info": {
   "codemirror_mode": {
    "name": "ipython",
    "version": 3
   },
   "file_extension": ".py",
   "mimetype": "text/x-python",
   "name": "python",
   "nbconvert_exporter": "python",
   "pygments_lexer": "ipython3",
   "version": "3.11.5"
  }
 },
 "nbformat": 4,
 "nbformat_minor": 5
}
