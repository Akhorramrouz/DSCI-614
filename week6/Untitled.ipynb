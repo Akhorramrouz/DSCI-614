{
 "cells": [
  {
   "cell_type": "code",
   "execution_count": 3,
   "id": "6c7310e2",
   "metadata": {},
   "outputs": [],
   "source": [
    "import numpy as np\n",
    "from scipy import stats"
   ]
  },
  {
   "cell_type": "code",
   "execution_count": 2,
   "id": "f7abb3e9",
   "metadata": {},
   "outputs": [],
   "source": [
    "data = [64.1, 64.7, 64.5, 64.6, 64.5, 64.3, 64.6, 64.8, 64.2,64.3]"
   ]
  },
  {
   "cell_type": "code",
   "execution_count": 4,
   "id": "cd949379",
   "metadata": {},
   "outputs": [],
   "source": []
  },
  {
   "cell_type": "code",
   "execution_count": 6,
   "id": "15d548a5",
   "metadata": {},
   "outputs": [
    {
     "data": {
      "text/plain": [
       "1.96"
      ]
     },
     "execution_count": 6,
     "metadata": {},
     "output_type": "execute_result"
    }
   ],
   "source": [
    "np.round(1.959963984540054,2)"
   ]
  },
  {
   "cell_type": "code",
   "execution_count": 27,
   "id": "66b9e92c",
   "metadata": {},
   "outputs": [],
   "source": [
    "def ci_mu_known_sigma(data, sigma,confidence_level, side=\"double\"):\n",
    "    alpha = 1 - confidence_level\n",
    "    z_dist = stats.norm(0,1)\n",
    "    x_bar = np.mean(data)\n",
    "    n = len(data)\n",
    "    if side == \"double\":\n",
    "        critical_value = np.round(z_dist.ppf(1 - (alpha/2)),2)\n",
    "        interval = critical_value*sigma/np.sqrt(n)\n",
    "        return (np.round(x_bar-interval,2), np.round(x_bar+interval,2))\n",
    "    elif side == \"low\":\n",
    "        critical_value = np.round(z_dist.ppf(1 - (alpha)),2)\n",
    "        interval = critical_value*sigma/np.sqrt(n)\n",
    "        return np.round(x_bar-interval,2)\n",
    "    elif side == \"up\":\n",
    "        critical_value = np.round(z_dist.ppf(1 - (alpha)),2)\n",
    "        interval = critical_value*sigma/np.sqrt(n)\n",
    "        return np.round(x_bar+interval,2)"
   ]
  },
  {
   "cell_type": "code",
   "execution_count": 29,
   "id": "7bfc92cf",
   "metadata": {},
   "outputs": [
    {
     "data": {
      "text/plain": [
       "63.94"
      ]
     },
     "execution_count": 29,
     "metadata": {},
     "output_type": "execute_result"
    }
   ],
   "source": [
    "ci_mu_known_sigma(data, 1,.95, \"low\")"
   ]
  },
  {
   "cell_type": "code",
   "execution_count": 31,
   "id": "b1df4ca4",
   "metadata": {},
   "outputs": [],
   "source": [
    "x_bar = 13.71\n",
    "s = 3.554\n",
    "n = 22\n",
    "ci = .95"
   ]
  },
  {
   "cell_type": "code",
   "execution_count": 37,
   "id": "82b5a79e",
   "metadata": {},
   "outputs": [
    {
     "data": {
      "text/plain": [
       "12.13"
      ]
     },
     "execution_count": 37,
     "metadata": {},
     "output_type": "execute_result"
    }
   ],
   "source": [
    "np.round(x_bar - stats.t.ppf(.975,21) * s / np.sqrt(n),2)"
   ]
  },
  {
   "cell_type": "code",
   "execution_count": null,
   "id": "f629b31e",
   "metadata": {},
   "outputs": [],
   "source": [
    "def ci_mu_unknown_sigma(data, sigma,confidence_level, side=\"double\"):\n",
    "    alpha = 1 - confidence_level\n",
    "    x_bar = np.mean(data)\n",
    "    n = len(data)\n",
    "    if side == \"double\":\n",
    "        critical_value = np.round(z_dist.ppf(1 - (alpha/2)),2)\n",
    "        interval = critical_value*sigma/np.sqrt(n)\n",
    "        return (np.round(x_bar-interval,2), np.round(x_bar+interval,2))\n",
    "    elif side == \"low\":\n",
    "        critical_value = np.round(z_dist.ppf(1 - (alpha)),2)\n",
    "        interval = critical_value*sigma/np.sqrt(n)\n",
    "        return np.round(x_bar-interval,2)\n",
    "    elif side == \"up\":\n",
    "        critical_value = np.round(z_dist.ppf(1 - (alpha)),2)\n",
    "        interval = critical_value*sigma/np.sqrt(n)\n",
    "        return np.round(x_bar+interval,2)"
   ]
  },
  {
   "cell_type": "code",
   "execution_count": 25,
   "id": "0e6cdf3e",
   "metadata": {},
   "outputs": [
    {
     "data": {
      "text/plain": [
       "(63.84, 65.08)"
      ]
     },
     "execution_count": 25,
     "metadata": {},
     "output_type": "execute_result"
    }
   ],
   "source": [
    "ci_known_sigma(data,1,.95)"
   ]
  },
  {
   "cell_type": "code",
   "execution_count": 11,
   "id": "95598b15",
   "metadata": {},
   "outputs": [],
   "source": [
    "z_dist = stats.norm(0,1)"
   ]
  },
  {
   "cell_type": "code",
   "execution_count": null,
   "id": "3bf74bf3",
   "metadata": {},
   "outputs": [],
   "source": [
    "confidence_level = .95"
   ]
  },
  {
   "cell_type": "code",
   "execution_count": 15,
   "id": "26656633",
   "metadata": {},
   "outputs": [
    {
     "data": {
      "text/plain": [
       "1.96"
      ]
     },
     "execution_count": 15,
     "metadata": {},
     "output_type": "execute_result"
    }
   ],
   "source": [
    "np.round(z_dist.ppf(.975),2)"
   ]
  },
  {
   "cell_type": "code",
   "execution_count": 1,
   "id": "1f6e759a",
   "metadata": {},
   "outputs": [
    {
     "name": "stdout",
     "output_type": "stream",
     "text": [
      "95% confidence interval: (25.183784192612197, 44.816215807387806)\n"
     ]
    }
   ],
   "source": [
    "import numpy as np\n",
    "from scipy import stats\n",
    "\n",
    "# Sample data\n",
    "data = [25, 30, 35, 40, 45]\n",
    "\n",
    "# Compute sample mean and standard deviation\n",
    "mean = np.mean(data)\n",
    "std_dev = np.std(data, ddof=1)  # ddof=1 for sample standard deviation\n",
    "n = len(data)\n",
    "\n",
    "# Desired confidence level (e.g., 95%)\n",
    "confidence_level = 0.95\n",
    "\n",
    "# Compute the confidence interval\n",
    "ci = stats.t.interval(confidence_level, df=n-1, loc=mean, scale=std_dev/np.sqrt(n))\n",
    "\n",
    "print(f\"95% confidence interval: {ci}\")\n"
   ]
  },
  {
   "cell_type": "code",
   "execution_count": 1,
   "id": "d36c8409",
   "metadata": {},
   "outputs": [
    {
     "name": "stdout",
     "output_type": "stream",
     "text": [
      " CI is from 63.84019357860699 to 65.079806421393\n"
     ]
    }
   ],
   "source": [
    "import pandas as pd\n",
    "import numpy as np\n",
    "\n",
    "\n",
    "sigma = 1\n",
    "n = 10\n",
    "x_bar = np.mean([64.1, 64.7, 64.5, 64.6, 64.5, 64.3, 64.6, 64.8, 64.2, 64.3])\n",
    "theta_l = x_bar - 1.96 * sigma / np.sqrt(n)\n",
    "theta_u = x_bar + 1.96 * sigma / np.sqrt(n)\n",
    "\n",
    "print(f\" CI is from {theta_l} to {theta_u}\")"
   ]
  },
  {
   "cell_type": "code",
   "execution_count": null,
   "id": "3d950d89",
   "metadata": {},
   "outputs": [],
   "source": []
  }
 ],
 "metadata": {
  "kernelspec": {
   "display_name": "Python 3 (ipykernel)",
   "language": "python",
   "name": "python3"
  },
  "language_info": {
   "codemirror_mode": {
    "name": "ipython",
    "version": 3
   },
   "file_extension": ".py",
   "mimetype": "text/x-python",
   "name": "python",
   "nbconvert_exporter": "python",
   "pygments_lexer": "ipython3",
   "version": "3.11.5"
  }
 },
 "nbformat": 4,
 "nbformat_minor": 5
}
