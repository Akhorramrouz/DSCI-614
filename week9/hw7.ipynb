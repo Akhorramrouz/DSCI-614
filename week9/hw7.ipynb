{
 "cells": [
  {
   "cell_type": "code",
   "execution_count": 1,
   "id": "c0f9b6c0",
   "metadata": {},
   "outputs": [],
   "source": [
    "from scipy import stats\n",
    "import numpy as np \n",
    "import pandas as pd\n",
    "\n",
    "z_dist = stats.norm(0,1)"
   ]
  },
  {
   "cell_type": "markdown",
   "id": "f6409edc",
   "metadata": {},
   "source": [
    "## Q1\n",
    "### The null hypothesis for a test is 𝐻0: 𝜇 = 5. The population variance is 2. The sample mean in this case is 5.4 and the sample size is 36. Test the null hypothesis using the pvalue approach (provide test statistic, p-value, and decision):\n",
    "\n",
    "#### a. 𝐻1: 𝜇 > 5 , with 𝛼 = 0.05"
   ]
  },
  {
   "cell_type": "code",
   "execution_count": 2,
   "id": "402ab1e9",
   "metadata": {},
   "outputs": [
    {
     "name": "stdout",
     "output_type": "stream",
     "text": [
      "z_test_statistic=1.6970562748477154\n"
     ]
    }
   ],
   "source": [
    "mu = 5\n",
    "x_bar = 5.4\n",
    "sigma = np.sqrt(2)\n",
    "n = 36\n",
    "\n",
    "z_test_statistic = (x_bar - mu)/(sigma/np.sqrt(n))\n",
    "print(f\"{z_test_statistic=}\")"
   ]
  },
  {
   "cell_type": "code",
   "execution_count": 3,
   "id": "f4bf9ab0",
   "metadata": {},
   "outputs": [
    {
     "name": "stdout",
     "output_type": "stream",
     "text": [
      "0.044843010885182166\n"
     ]
    }
   ],
   "source": [
    "p_val = (1 - z_dist.cdf(z_test_statistic))\n",
    "print(p_val)"
   ]
  },
  {
   "cell_type": "code",
   "execution_count": 4,
   "id": "38c1ede6",
   "metadata": {},
   "outputs": [
    {
     "name": "stdout",
     "output_type": "stream",
     "text": [
      "Reject H0\n"
     ]
    }
   ],
   "source": [
    "alpha = 0.05\n",
    "\n",
    "# Make decision based on p-value\n",
    "decision = \"Reject H0\" if p_val <= alpha else \"Fail to reject H0\"\n",
    "print(decision)"
   ]
  },
  {
   "cell_type": "markdown",
   "id": "7e94684d",
   "metadata": {},
   "source": [
    "#### b. 𝐻1: 𝜇 > 5 , with 𝛼 = 0.01"
   ]
  },
  {
   "cell_type": "code",
   "execution_count": 5,
   "id": "ed6c8715",
   "metadata": {},
   "outputs": [
    {
     "name": "stdout",
     "output_type": "stream",
     "text": [
      "Fail to reject H0\n"
     ]
    }
   ],
   "source": [
    "alpha = 0.01\n",
    "\n",
    "# Make decision based on p-value\n",
    "decision = \"Reject H0\" if p_val <= alpha else \"Fail to reject H0\"\n",
    "print(decision)"
   ]
  },
  {
   "cell_type": "markdown",
   "id": "11a9b015",
   "metadata": {},
   "source": [
    "#### c. 𝐻1: 𝜇 < 5 , with 𝛼 = 0.01"
   ]
  },
  {
   "cell_type": "code",
   "execution_count": 6,
   "id": "ba084f32",
   "metadata": {},
   "outputs": [
    {
     "name": "stdout",
     "output_type": "stream",
     "text": [
      "0.04484301088518217\n",
      "Fail to reject H0\n"
     ]
    }
   ],
   "source": [
    "alpha = 0.01\n",
    "p_val = z_dist.cdf(-z_test_statistic)\n",
    "print(p_val)\n",
    "decision = \"Reject H0\" if p_val <= alpha else \"Fail to reject H0\"\n",
    "print(decision)"
   ]
  },
  {
   "cell_type": "markdown",
   "id": "a32cc7b5",
   "metadata": {},
   "source": [
    "#### d. 𝐻1: 𝜇 ≠ 5 , with 𝛼 = 0.05"
   ]
  },
  {
   "cell_type": "code",
   "execution_count": 7,
   "id": "17c38f35",
   "metadata": {},
   "outputs": [
    {
     "name": "stdout",
     "output_type": "stream",
     "text": [
      "0.08968602177036433\n",
      "Fail to reject H0\n"
     ]
    }
   ],
   "source": [
    "alpha = 0.05\n",
    "p_val = 2 * (1 - z_dist.cdf(z_test_statistic))\n",
    "print(p_val)\n",
    "decision = \"Reject H0\" if p_val <= alpha else \"Fail to reject H0\"\n",
    "print(decision)"
   ]
  },
  {
   "cell_type": "markdown",
   "id": "96b0d5cc",
   "metadata": {},
   "source": [
    "#### e. 𝐻1: 𝜇 ≠ 5 , with 𝛼 = 0.10"
   ]
  },
  {
   "cell_type": "code",
   "execution_count": 8,
   "id": "b1d8138a",
   "metadata": {},
   "outputs": [
    {
     "name": "stdout",
     "output_type": "stream",
     "text": [
      "0.08968602177036433\n",
      "Reject H0\n"
     ]
    }
   ],
   "source": [
    "alpha = 0.1\n",
    "p_val = 2 * (1 - z_dist.cdf(z_test_statistic))\n",
    "print(p_val)\n",
    "decision = \"Reject H0\" if p_val <= alpha else \"Fail to reject H0\"\n",
    "print(decision)"
   ]
  },
  {
   "cell_type": "markdown",
   "id": "e2c0758c",
   "metadata": {},
   "source": [
    "## Q2 Now redo parts a-e from Q1 using the rejection region method (give the region anddecision). Do the 2 methods agree for each part?"
   ]
  },
  {
   "cell_type": "code",
   "execution_count": 9,
   "id": "e1b40dbf",
   "metadata": {},
   "outputs": [
    {
     "data": {
      "text/plain": [
       "(1.6970562748477154,\n",
       " [('right', 0.05, 'Reject H0'),\n",
       "  ('right', 0.01, 'Fail to Reject H0'),\n",
       "  ('left', 0.01, 'Fail to Reject H0'),\n",
       "  ('two', 0.05, 'Fail to Reject H0'),\n",
       "  ('two', 0.1, 'Reject H0')])"
      ]
     },
     "execution_count": 9,
     "metadata": {},
     "output_type": "execute_result"
    }
   ],
   "source": [
    "# Given data\n",
    "x_bar = 5.4\n",
    "mu_0 = 5\n",
    "sigma = np.sqrt(2)\n",
    "n = 36\n",
    "\n",
    "# Calculate the z-test statistic\n",
    "z_statistic = (x_bar - mu_0) / (sigma/np.sqrt(n))\n",
    "\n",
    "# Rejection regions and decisions for each case\n",
    "alpha_values = [0.05, 0.01, 0.01, 0.05, 0.10]\n",
    "tails = ['right', 'right', 'left', 'two', 'two']\n",
    "decisions = []\n",
    "\n",
    "for alpha, tail in zip(alpha_values, tails):\n",
    "    if tail == 'right':\n",
    "        z_critical = stats.norm.ppf(1 - alpha)\n",
    "        decision = \"Reject H0\" if z_statistic > z_critical else \"Fail to Reject H0\"\n",
    "    elif tail == 'left':\n",
    "        z_critical = stats.norm.ppf(alpha)\n",
    "        decision = \"Reject H0\" if z_statistic < z_critical else \"Fail to Reject H0\"\n",
    "    else:  # two-tailed\n",
    "        z_critical_right = stats.norm.ppf(1 - alpha/2)\n",
    "        z_critical_left = stats.norm.ppf(alpha/2)\n",
    "        decision = \"Reject H0\" if z_statistic > z_critical_right or z_statistic < z_critical_left else \"Fail to Reject H0\"\n",
    "    decisions.append((tail, alpha, decision))\n",
    "\n",
    "z_statistic, decisions\n"
   ]
  },
  {
   "cell_type": "code",
   "execution_count": null,
   "id": "8e7bd2f1",
   "metadata": {},
   "outputs": [],
   "source": []
  },
  {
   "cell_type": "markdown",
   "id": "76286e44",
   "metadata": {},
   "source": [
    "## Q3. \n",
    "### A recent sample of 6-month car insurance premiums was sampled from a local insurance agent. They wanted to see if their average rates were similar to the national average. According to NerdWallet.com, the average rate of a 6-month policy is 713. They have provided you with the data in insurance.xlsx.\n",
    "#### a. Do you think is data follows a normal distribution? Provide evidence to support your conclusion."
   ]
  },
  {
   "cell_type": "code",
   "execution_count": 10,
   "id": "4878d8fa",
   "metadata": {},
   "outputs": [
    {
     "data": {
      "text/plain": [
       "count      34.000000\n",
       "mean      625.406176\n",
       "std       240.506640\n",
       "min       174.650000\n",
       "25%       443.702500\n",
       "50%       583.230000\n",
       "75%       815.820000\n",
       "max      1185.290000\n",
       "Name: Premium USD, dtype: float64"
      ]
     },
     "execution_count": 10,
     "metadata": {},
     "output_type": "execute_result"
    }
   ],
   "source": [
    "df = pd.read_excel(\"insurance.xlsx\")\n",
    "df['Premium USD'].describe()"
   ]
  },
  {
   "cell_type": "code",
   "execution_count": 11,
   "id": "608bb6e5",
   "metadata": {},
   "outputs": [
    {
     "data": {
      "image/png": "[encoded data removed]",
      "text/plain": [
       "<Figure size 800x600 with 1 Axes>"
      ]
     },
     "metadata": {},
     "output_type": "display_data"
    }
   ],
   "source": [
    "import pandas as pd\n",
    "import numpy as np\n",
    "import matplotlib.pyplot as plt\n",
    "import scipy.stats as stats\n",
    "\n",
    "# Sample pandas series (replace this with your actual data)\n",
    "data = df['Premium USD']\n",
    "\n",
    "# Create a figure with a specific size\n",
    "plt.figure(figsize=(8, 6))\n",
    "\n",
    "# Generate a Q-Q plot\n",
    "stats.probplot(data, dist=\"norm\", plot=plt)\n",
    "\n",
    "# Enhance the plot\n",
    "plt.title('Q-Q Plot of Premium USD', fontsize=16)  # Add a title with increased font size\n",
    "plt.xlabel('Theoretical Quantiles', fontsize=14)  # Label x-axis\n",
    "plt.ylabel('Ordered Values', fontsize=14)  # Label y-axis\n",
    "plt.xticks(fontsize=12)  # Increase x-axis tick size\n",
    "plt.yticks(fontsize=12)  # Increase y-axis tick size\n",
    "\n",
    "# The grid aids in visual comparison\n",
    "plt.grid(True)\n",
    "\n",
    "# Adjust the layout and display the plot\n",
    "plt.tight_layout()\n",
    "plt.show()\n"
   ]
  },
  {
   "cell_type": "markdown",
   "id": "1918f5b9",
   "metadata": {},
   "source": [
    "#### b. Perform the appropriate hypothesis test at 𝛼 = 0.05. Provide the null and alternative hypotheses, test statistic, p-value, and decision."
   ]
  },
  {
   "cell_type": "code",
   "execution_count": 12,
   "id": "a390b2c3",
   "metadata": {},
   "outputs": [
    {
     "name": "stdout",
     "output_type": "stream",
     "text": [
      "-2.1235419586275004\n",
      "0.04129343818147957\n"
     ]
    }
   ],
   "source": [
    "mu = 713\n",
    "x_bar = 625.41\n",
    "n = 34\n",
    "s = 240.51\n",
    "alpha = .05\n",
    "\n",
    "t_test_stat = (x_bar - mu)/(s/np.sqrt(n))\n",
    "print(t_test_stat)\n",
    "\n",
    "p_val = 2 * (1 - stats.t.cdf(abs(t_test_stat),n-1))\n",
    "print(p_val)"
   ]
  },
  {
   "cell_type": "markdown",
   "id": "dd8db12b",
   "metadata": {},
   "source": [
    "#### c. What would you conclude to the agency? How are they doing compared to the national average?"
   ]
  },
  {
   "cell_type": "markdown",
   "id": "4b5d4837",
   "metadata": {},
   "source": [
    "with a p-value of 0.0413, which is less than 0.05, we reject the null hypothesis.\n",
    "Based on the sample data, there is evidence to suggest that the local agency's average 6-month car insurance premium is different from the national average. In particular, with a sample mean of 625.41, the agency's average rates are lower than the national average of 713."
   ]
  },
  {
   "cell_type": "markdown",
   "id": "daa5a11c",
   "metadata": {},
   "source": [
    "#### d. Suppose you think a confidence interval would be an appropriate addition to your analysis for the agency. Construct and interpret the appropriate confidence interval"
   ]
  },
  {
   "cell_type": "code",
   "execution_count": 13,
   "id": "9d9465cd",
   "metadata": {},
   "outputs": [
    {
     "data": {
      "text/plain": [
       "(541.4894421557872, 709.3229098442127)"
      ]
     },
     "execution_count": 13,
     "metadata": {},
     "output_type": "execute_result"
    }
   ],
   "source": [
    "# Given data\n",
    "x_bar = 625.406176\n",
    "s = 240.506640\n",
    "n = 34\n",
    "\n",
    "# t-value for alpha/2 = 0.025 and df = n-1 for a 95% CI\n",
    "t_critical = stats.t.ppf(1 - 0.025, df=n-1)\n",
    "\n",
    "# Calculate the confidence interval\n",
    "lower_bound = x_bar - t_critical * (s/np.sqrt(n))\n",
    "upper_bound = x_bar + t_critical * (s/np.sqrt(n))\n",
    "\n",
    "lower_bound, upper_bound\n"
   ]
  },
  {
   "cell_type": "markdown",
   "id": "df49b3c6",
   "metadata": {},
   "source": [
    "## Q4\n",
    "### In a random sample of 400 industrial accidents, it was found that 231 were due at least partially to unsafe working conditions. Is it reasonable to claim that at more than half of accidents are partially caused due to unsafe working conditions? Use α = 0.01.\n",
    "\n",
    "#### a. Give the null and alternative hypotheses, test statistic, rejection region, decision, and a conclusion in the context of the problem.\n"
   ]
  },
  {
   "cell_type": "markdown",
   "id": "e7738ddc",
   "metadata": {},
   "source": [
    "$$\n",
    "H_0 => p=0.5 \n",
    "\\\\ \n",
    "H_1 => p > 0.5\n",
    "$$"
   ]
  },
  {
   "cell_type": "code",
   "execution_count": 14,
   "id": "2b1bf92b",
   "metadata": {},
   "outputs": [
    {
     "name": "stdout",
     "output_type": "stream",
     "text": [
      "3.1000000000000005 2.3263478740408408 Reject H0\n"
     ]
    }
   ],
   "source": [
    "# Given data\n",
    "p_hat = 231/400  # sample proportion\n",
    "p_0 = 0.5  # hypothesized population proportion\n",
    "n = 400  # sample size\n",
    "\n",
    "# Calculate the test statistic\n",
    "z_statistic = (p_hat - p_0) / np.sqrt(p_0 * (1-p_0) / n)\n",
    "\n",
    "# Critical z-value for alpha = 0.01\n",
    "z_critical = stats.norm.ppf(0.99)\n",
    "\n",
    "# Decision\n",
    "decision = \"Reject H0\" if z_statistic > z_critical else \"Fail to Reject H0\"\n",
    "\n",
    "print(z_statistic, z_critical, decision)"
   ]
  },
  {
   "cell_type": "code",
   "execution_count": 15,
   "id": "aad0f99d",
   "metadata": {},
   "outputs": [
    {
     "name": "stdout",
     "output_type": "stream",
     "text": [
      "Based on the sample data and at a significance level of  alpha=0.01 there is enough evidence to support the claim that more than half of the accidents are partially caused due to unsafe working conditions.\n"
     ]
    }
   ],
   "source": [
    "print(\"\"\"Based on the sample data and at a significance level of  alpha=0.01 there is enough evidence to support the claim that more than half of the accidents are partially caused due to unsafe working conditions.\"\"\")"
   ]
  },
  {
   "cell_type": "markdown",
   "id": "2c81023c",
   "metadata": {},
   "source": [
    "#### b. Assume that you now want to create a confidence interval/bound. Would you create a confidence interval, upper bound, or lower bound? Give that interval and interpret. Did you get the same result as part a?"
   ]
  },
  {
   "cell_type": "code",
   "execution_count": 16,
   "id": "638d4d99",
   "metadata": {},
   "outputs": [
    {
     "data": {
      "text/plain": [
       "0.5200441818255743"
      ]
     },
     "execution_count": 16,
     "metadata": {},
     "output_type": "execute_result"
    }
   ],
   "source": [
    "# Calculate the lower bound of the 99% confidence interval for the proportion\n",
    "lower_bound = p_hat - z_critical * np.sqrt(p_hat * (1-p_hat) / n)\n",
    "\n",
    "lower_bound\n"
   ]
  },
  {
   "cell_type": "markdown",
   "id": "3ab7a2aa",
   "metadata": {},
   "source": [
    "In part a, we rejected the null hypothesis, suggesting that more than half of the accidents are partially caused due to unsafe working conditions. The confidence interval in part b supports this conclusion, as the lower bound is above 0.5.\n",
    "\n",
    "Thus, both the hypothesis test and the confidence interval yield consistent results.​"
   ]
  },
  {
   "cell_type": "markdown",
   "id": "b7dfbf2d",
   "metadata": {},
   "source": [
    "## Q5\n",
    "### . A paint manufacturer uses a large amount of titanium dioxide in its coatings. Titanium dioxide is the primary white pigment used in paints and coatings. Industry measures the “whiteness” of this pigment using a scale of 0-30, with 30 being essentially perfectly white. A new vendor claims that its titanium dioxide averages 25 on the whiteness scale with a variance no larger than 1.5. The manufacturer doubts that the new vendor has such a small amount of variability in his product, so they tests the next 14 shipments, which are in the file whiteness.xlsx\n",
    "### Can we disprove the vendor's claim (with respect to variability)? Test this statement at 𝛼=0.05. Give null and alternative hypotheses, test statistic, p-value, decision, and conclusion. "
   ]
  },
  {
   "cell_type": "code",
   "execution_count": 17,
   "id": "db8e7612",
   "metadata": {},
   "outputs": [],
   "source": [
    "df = pd.read_excel('whiteness.xlsx')"
   ]
  },
  {
   "cell_type": "code",
   "execution_count": 18,
   "id": "d2fd6559",
   "metadata": {},
   "outputs": [
    {
     "data": {
      "text/plain": [
       "2.9795918367346945"
      ]
     },
     "execution_count": 18,
     "metadata": {},
     "output_type": "execute_result"
    }
   ],
   "source": [
    "np.var(df['Whiteness'])"
   ]
  },
  {
   "cell_type": "markdown",
   "id": "d689a981",
   "metadata": {},
   "source": [
    "$$\n",
    "H_0 = Var(X) = 1.5 \\\\ \n",
    "H_1 = Var(X) > 1.5\n",
    "$$\n",
    "We will use the chi-square test statistic for a variance, which is defined as:\n",
    "$$\n",
    "\\sigma^2 = \\frac{(n-1)*s^2}{\\sigma_0^2}\n",
    "\\\\\n",
    "\\sigma^2 = \\frac{13*2.98}{1.5} \n",
    "\\\\ \n",
    "\\sigma^2 = 27.81\n",
    "$$"
   ]
  },
  {
   "cell_type": "code",
   "execution_count": 19,
   "id": "7e86285b",
   "metadata": {},
   "outputs": [
    {
     "name": "stdout",
     "output_type": "stream",
     "text": [
      "chi2_critical=22.362032494826934\n"
     ]
    }
   ],
   "source": [
    "chi2_critical = stats.chi2.ppf(0.95, 13)\n",
    "print(f\"{chi2_critical=}\")"
   ]
  },
  {
   "cell_type": "code",
   "execution_count": 20,
   "id": "2734896c",
   "metadata": {},
   "outputs": [
    {
     "name": "stdout",
     "output_type": "stream",
     "text": [
      "0.00961822837007864\n"
     ]
    }
   ],
   "source": [
    "chi2_statistic = 27.81\n",
    "p_value = 1 - stats.chi2.cdf(chi2_statistic, 13)\n",
    "print(f\"{p_value}\")"
   ]
  },
  {
   "cell_type": "code",
   "execution_count": 21,
   "id": "b1070c86",
   "metadata": {},
   "outputs": [
    {
     "data": {
      "text/plain": [
       "(\"Decision: We do not believe the vendor's claim about the whiteness of the titanium dioxide.\",\n",
       " 'Conclusion: The test shows that the whiteness varies more than what the vendor told us.')"
      ]
     },
     "execution_count": 21,
     "metadata": {},
     "output_type": "execute_result"
    }
   ],
   "source": [
    "\n",
    "decision = \"Decision: We do not believe the vendor's claim about the whiteness of the titanium dioxide.\"\n",
    "conclusion = \"Conclusion: The test shows that the whiteness varies more than what the vendor told us.\"\n",
    "\n",
    "decision, conclusion\n"
   ]
  }
 ],
 "metadata": {
  "kernelspec": {
   "display_name": "Python 3 (ipykernel)",
   "language": "python",
   "name": "python3"
  },
  "language_info": {
   "codemirror_mode": {
    "name": "ipython",
    "version": 3
   },
   "file_extension": ".py",
   "mimetype": "text/x-python",
   "name": "python",
   "nbconvert_exporter": "python",
   "pygments_lexer": "ipython3",
   "version": "3.11.5"
  }
 },
 "nbformat": 4,
 "nbformat_minor": 5
}
